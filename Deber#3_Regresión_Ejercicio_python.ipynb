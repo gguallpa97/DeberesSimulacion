{
 "cells": [
  {
   "cell_type": "markdown",
   "metadata": {},
   "source": [
    "# UNIVERSIDAD POLITÉCNICA SALESIANA \n",
    "# El VECINO - CUENCA\n",
    "\n",
    "**Estudiante:**Gustavo Guallpa\n",
    "\n",
    "**Profesor:** Ing. Diego Quisi\n",
    "\n",
    "**Asignatura:** Simulación\n",
    "\n",
    "**Fecha:** 02/11/2020.\n",
    "\n",
    "**Tema:** Regresión:COVID-19 ECUADOR"
   ]
  },
  {
   "cell_type": "markdown",
   "metadata": {},
   "source": [
    "# Ejercicio\n",
    "**1)BASE DE DATOS ACTUALIZADA DEL COVID-19 EN ECUADOR**\n",
    "\n",
    "Para la obtención de los datos se hizo una recolección que es propiamente realizada por el estudiante , de fuentes que se encuentran citadas en las referencias, los datos estan hasta la fecha de 30 de Octubre de 2020.\n"
   ]
  },
  {
   "cell_type": "code",
   "execution_count": 292,
   "metadata": {},
   "outputs": [],
   "source": [
    "# Importar las librerias para el analasis\n",
    "import pandas as pd\n",
    "import numpy as np\n",
    "from datetime import datetime,timedelta\n",
    "from sklearn.metrics import mean_squared_error,r2_score\n",
    "from scipy.optimize import curve_fit\n",
    "from scipy.optimize import fsolve\n",
    "from sklearn import linear_model\n",
    "import matplotlib.pyplot as plt\n",
    "%matplotlib inline"
   ]
  },
  {
   "cell_type": "code",
   "execution_count": 293,
   "metadata": {},
   "outputs": [
    {
     "data": {
      "text/html": [
       "<div>\n",
       "<style scoped>\n",
       "    .dataframe tbody tr th:only-of-type {\n",
       "        vertical-align: middle;\n",
       "    }\n",
       "\n",
       "    .dataframe tbody tr th {\n",
       "        vertical-align: top;\n",
       "    }\n",
       "\n",
       "    .dataframe thead th {\n",
       "        text-align: right;\n",
       "    }\n",
       "</style>\n",
       "<table border=\"1\" class=\"dataframe\">\n",
       "  <thead>\n",
       "    <tr style=\"text-align: right;\">\n",
       "      <th></th>\n",
       "      <th>dateRep</th>\n",
       "      <th>day</th>\n",
       "      <th>month</th>\n",
       "      <th>year</th>\n",
       "      <th>Country_Region</th>\n",
       "      <th>Last_Update</th>\n",
       "      <th>Lat</th>\n",
       "      <th>Long_</th>\n",
       "      <th>Confirmed</th>\n",
       "      <th>Deaths</th>\n",
       "      <th>Recovered</th>\n",
       "      <th>Active</th>\n",
       "      <th>Combined_Key</th>\n",
       "      <th>Incidence_Rate</th>\n",
       "      <th>Case-Fatality_Ratio</th>\n",
       "    </tr>\n",
       "  </thead>\n",
       "  <tbody>\n",
       "    <tr>\n",
       "      <th>0</th>\n",
       "      <td>2020-02-28</td>\n",
       "      <td>28</td>\n",
       "      <td>2</td>\n",
       "      <td>2020</td>\n",
       "      <td>Ecuador</td>\n",
       "      <td>2020-03-01T23:33:03</td>\n",
       "      <td>-1.8312</td>\n",
       "      <td>-78.1834</td>\n",
       "      <td>1</td>\n",
       "      <td>0</td>\n",
       "      <td>0</td>\n",
       "      <td>NaN</td>\n",
       "      <td>NaN</td>\n",
       "      <td>NaN</td>\n",
       "      <td>NaN</td>\n",
       "    </tr>\n",
       "    <tr>\n",
       "      <th>1</th>\n",
       "      <td>2020-02-29</td>\n",
       "      <td>29</td>\n",
       "      <td>2</td>\n",
       "      <td>2020</td>\n",
       "      <td>Ecuador</td>\n",
       "      <td>2020-03-01T23:33:03</td>\n",
       "      <td>-1.8312</td>\n",
       "      <td>-78.1834</td>\n",
       "      <td>3</td>\n",
       "      <td>0</td>\n",
       "      <td>0</td>\n",
       "      <td>NaN</td>\n",
       "      <td>NaN</td>\n",
       "      <td>NaN</td>\n",
       "      <td>NaN</td>\n",
       "    </tr>\n",
       "    <tr>\n",
       "      <th>2</th>\n",
       "      <td>2020-03-01</td>\n",
       "      <td>1</td>\n",
       "      <td>3</td>\n",
       "      <td>2020</td>\n",
       "      <td>Ecuador</td>\n",
       "      <td>2020-03-01T23:33:03</td>\n",
       "      <td>-1.8312</td>\n",
       "      <td>-78.1834</td>\n",
       "      <td>6</td>\n",
       "      <td>0</td>\n",
       "      <td>0</td>\n",
       "      <td>NaN</td>\n",
       "      <td>NaN</td>\n",
       "      <td>NaN</td>\n",
       "      <td>NaN</td>\n",
       "    </tr>\n",
       "    <tr>\n",
       "      <th>3</th>\n",
       "      <td>2020-03-02</td>\n",
       "      <td>2</td>\n",
       "      <td>3</td>\n",
       "      <td>2020</td>\n",
       "      <td>Ecuador</td>\n",
       "      <td>2020-03-01T23:33:03</td>\n",
       "      <td>-1.8312</td>\n",
       "      <td>-78.1834</td>\n",
       "      <td>6</td>\n",
       "      <td>0</td>\n",
       "      <td>0</td>\n",
       "      <td>NaN</td>\n",
       "      <td>NaN</td>\n",
       "      <td>NaN</td>\n",
       "      <td>NaN</td>\n",
       "    </tr>\n",
       "    <tr>\n",
       "      <th>4</th>\n",
       "      <td>2020-03-03</td>\n",
       "      <td>3</td>\n",
       "      <td>3</td>\n",
       "      <td>2020</td>\n",
       "      <td>Ecuador</td>\n",
       "      <td>2020-03-03T15:13:26</td>\n",
       "      <td>-1.8312</td>\n",
       "      <td>-78.1834</td>\n",
       "      <td>7</td>\n",
       "      <td>0</td>\n",
       "      <td>0</td>\n",
       "      <td>NaN</td>\n",
       "      <td>NaN</td>\n",
       "      <td>NaN</td>\n",
       "      <td>NaN</td>\n",
       "    </tr>\n",
       "    <tr>\n",
       "      <th>...</th>\n",
       "      <td>...</td>\n",
       "      <td>...</td>\n",
       "      <td>...</td>\n",
       "      <td>...</td>\n",
       "      <td>...</td>\n",
       "      <td>...</td>\n",
       "      <td>...</td>\n",
       "      <td>...</td>\n",
       "      <td>...</td>\n",
       "      <td>...</td>\n",
       "      <td>...</td>\n",
       "      <td>...</td>\n",
       "      <td>...</td>\n",
       "      <td>...</td>\n",
       "      <td>...</td>\n",
       "    </tr>\n",
       "    <tr>\n",
       "      <th>241</th>\n",
       "      <td>2020-10-26</td>\n",
       "      <td>26</td>\n",
       "      <td>10</td>\n",
       "      <td>2020</td>\n",
       "      <td>Ecuador</td>\n",
       "      <td>27-10-20 04:24</td>\n",
       "      <td>-1.8312</td>\n",
       "      <td>-78.1834</td>\n",
       "      <td>162178</td>\n",
       "      <td>12573</td>\n",
       "      <td>141759</td>\n",
       "      <td>7846.0</td>\n",
       "      <td>Ecuador</td>\n",
       "      <td>919.216961</td>\n",
       "      <td>7.752593</td>\n",
       "    </tr>\n",
       "    <tr>\n",
       "      <th>242</th>\n",
       "      <td>2020-10-27</td>\n",
       "      <td>27</td>\n",
       "      <td>10</td>\n",
       "      <td>2020</td>\n",
       "      <td>Ecuador</td>\n",
       "      <td>28-10-20 04:24</td>\n",
       "      <td>-1.8312</td>\n",
       "      <td>-78.1834</td>\n",
       "      <td>163192</td>\n",
       "      <td>12588</td>\n",
       "      <td>141759</td>\n",
       "      <td>8845.0</td>\n",
       "      <td>Ecuador</td>\n",
       "      <td>924.964264</td>\n",
       "      <td>7.713613</td>\n",
       "    </tr>\n",
       "    <tr>\n",
       "      <th>243</th>\n",
       "      <td>2020-10-28</td>\n",
       "      <td>28</td>\n",
       "      <td>10</td>\n",
       "      <td>2020</td>\n",
       "      <td>Ecuador</td>\n",
       "      <td>29-10-20 04:24</td>\n",
       "      <td>-1.8312</td>\n",
       "      <td>-78.1834</td>\n",
       "      <td>164908</td>\n",
       "      <td>12608</td>\n",
       "      <td>141759</td>\n",
       "      <td>10541.0</td>\n",
       "      <td>Ecuador</td>\n",
       "      <td>934.690468</td>\n",
       "      <td>7.645475</td>\n",
       "    </tr>\n",
       "    <tr>\n",
       "      <th>244</th>\n",
       "      <td>2020-10-29</td>\n",
       "      <td>29</td>\n",
       "      <td>10</td>\n",
       "      <td>2020</td>\n",
       "      <td>Ecuador</td>\n",
       "      <td>30-10-20 04:24</td>\n",
       "      <td>-1.8312</td>\n",
       "      <td>-78.1834</td>\n",
       "      <td>166302</td>\n",
       "      <td>12622</td>\n",
       "      <td>141759</td>\n",
       "      <td>11921.0</td>\n",
       "      <td>Ecuador</td>\n",
       "      <td>942.591591</td>\n",
       "      <td>7.589806</td>\n",
       "    </tr>\n",
       "    <tr>\n",
       "      <th>245</th>\n",
       "      <td>2020-10-30</td>\n",
       "      <td>30</td>\n",
       "      <td>10</td>\n",
       "      <td>2020</td>\n",
       "      <td>Ecuador</td>\n",
       "      <td>31-10-20 04:24</td>\n",
       "      <td>-1.8312</td>\n",
       "      <td>-78.1834</td>\n",
       "      <td>167147</td>\n",
       "      <td>12632</td>\n",
       "      <td>141759</td>\n",
       "      <td>12756.0</td>\n",
       "      <td>Ecuador</td>\n",
       "      <td>947.381010</td>\n",
       "      <td>7.557420</td>\n",
       "    </tr>\n",
       "  </tbody>\n",
       "</table>\n",
       "<p>246 rows × 15 columns</p>\n",
       "</div>"
      ],
      "text/plain": [
       "        dateRep  day  month  year Country_Region          Last_Update     Lat  \\\n",
       "0    2020-02-28   28      2  2020        Ecuador  2020-03-01T23:33:03 -1.8312   \n",
       "1    2020-02-29   29      2  2020        Ecuador  2020-03-01T23:33:03 -1.8312   \n",
       "2    2020-03-01    1      3  2020        Ecuador  2020-03-01T23:33:03 -1.8312   \n",
       "3    2020-03-02    2      3  2020        Ecuador  2020-03-01T23:33:03 -1.8312   \n",
       "4    2020-03-03    3      3  2020        Ecuador  2020-03-03T15:13:26 -1.8312   \n",
       "..          ...  ...    ...   ...            ...                  ...     ...   \n",
       "241  2020-10-26   26     10  2020        Ecuador       27-10-20 04:24 -1.8312   \n",
       "242  2020-10-27   27     10  2020        Ecuador       28-10-20 04:24 -1.8312   \n",
       "243  2020-10-28   28     10  2020        Ecuador       29-10-20 04:24 -1.8312   \n",
       "244  2020-10-29   29     10  2020        Ecuador       30-10-20 04:24 -1.8312   \n",
       "245  2020-10-30   30     10  2020        Ecuador       31-10-20 04:24 -1.8312   \n",
       "\n",
       "       Long_  Confirmed  Deaths  Recovered   Active Combined_Key  \\\n",
       "0   -78.1834          1       0          0      NaN          NaN   \n",
       "1   -78.1834          3       0          0      NaN          NaN   \n",
       "2   -78.1834          6       0          0      NaN          NaN   \n",
       "3   -78.1834          6       0          0      NaN          NaN   \n",
       "4   -78.1834          7       0          0      NaN          NaN   \n",
       "..       ...        ...     ...        ...      ...          ...   \n",
       "241 -78.1834     162178   12573     141759   7846.0      Ecuador   \n",
       "242 -78.1834     163192   12588     141759   8845.0      Ecuador   \n",
       "243 -78.1834     164908   12608     141759  10541.0      Ecuador   \n",
       "244 -78.1834     166302   12622     141759  11921.0      Ecuador   \n",
       "245 -78.1834     167147   12632     141759  12756.0      Ecuador   \n",
       "\n",
       "     Incidence_Rate  Case-Fatality_Ratio  \n",
       "0               NaN                  NaN  \n",
       "1               NaN                  NaN  \n",
       "2               NaN                  NaN  \n",
       "3               NaN                  NaN  \n",
       "4               NaN                  NaN  \n",
       "..              ...                  ...  \n",
       "241      919.216961             7.752593  \n",
       "242      924.964264             7.713613  \n",
       "243      934.690468             7.645475  \n",
       "244      942.591591             7.589806  \n",
       "245      947.381010             7.557420  \n",
       "\n",
       "[246 rows x 15 columns]"
      ]
     },
     "execution_count": 293,
     "metadata": {},
     "output_type": "execute_result"
    }
   ],
   "source": [
    "#Leemos los datos.\n",
    "path='covid19.csv'\n",
    "df=pd.read_csv(path)\n",
    "#df.head(300)\n",
    "df"
   ]
  },
  {
   "cell_type": "code",
   "execution_count": 294,
   "metadata": {},
   "outputs": [
    {
     "data": {
      "text/html": [
       "<div>\n",
       "<style scoped>\n",
       "    .dataframe tbody tr th:only-of-type {\n",
       "        vertical-align: middle;\n",
       "    }\n",
       "\n",
       "    .dataframe tbody tr th {\n",
       "        vertical-align: top;\n",
       "    }\n",
       "\n",
       "    .dataframe thead th {\n",
       "        text-align: right;\n",
       "    }\n",
       "</style>\n",
       "<table border=\"1\" class=\"dataframe\">\n",
       "  <thead>\n",
       "    <tr style=\"text-align: right;\">\n",
       "      <th></th>\n",
       "      <th>dateRep</th>\n",
       "      <th>Confirmed</th>\n",
       "    </tr>\n",
       "  </thead>\n",
       "  <tbody>\n",
       "    <tr>\n",
       "      <th>0</th>\n",
       "      <td>0</td>\n",
       "      <td>1</td>\n",
       "    </tr>\n",
       "    <tr>\n",
       "      <th>1</th>\n",
       "      <td>1</td>\n",
       "      <td>3</td>\n",
       "    </tr>\n",
       "    <tr>\n",
       "      <th>2</th>\n",
       "      <td>2</td>\n",
       "      <td>6</td>\n",
       "    </tr>\n",
       "    <tr>\n",
       "      <th>3</th>\n",
       "      <td>3</td>\n",
       "      <td>6</td>\n",
       "    </tr>\n",
       "    <tr>\n",
       "      <th>4</th>\n",
       "      <td>4</td>\n",
       "      <td>7</td>\n",
       "    </tr>\n",
       "    <tr>\n",
       "      <th>...</th>\n",
       "      <td>...</td>\n",
       "      <td>...</td>\n",
       "    </tr>\n",
       "    <tr>\n",
       "      <th>241</th>\n",
       "      <td>241</td>\n",
       "      <td>162178</td>\n",
       "    </tr>\n",
       "    <tr>\n",
       "      <th>242</th>\n",
       "      <td>242</td>\n",
       "      <td>163192</td>\n",
       "    </tr>\n",
       "    <tr>\n",
       "      <th>243</th>\n",
       "      <td>243</td>\n",
       "      <td>164908</td>\n",
       "    </tr>\n",
       "    <tr>\n",
       "      <th>244</th>\n",
       "      <td>244</td>\n",
       "      <td>166302</td>\n",
       "    </tr>\n",
       "    <tr>\n",
       "      <th>245</th>\n",
       "      <td>245</td>\n",
       "      <td>167147</td>\n",
       "    </tr>\n",
       "  </tbody>\n",
       "</table>\n",
       "<p>246 rows × 2 columns</p>\n",
       "</div>"
      ],
      "text/plain": [
       "     dateRep  Confirmed\n",
       "0          0          1\n",
       "1          1          3\n",
       "2          2          6\n",
       "3          3          6\n",
       "4          4          7\n",
       "..       ...        ...\n",
       "241      241     162178\n",
       "242      242     163192\n",
       "243      243     164908\n",
       "244      244     166302\n",
       "245      245     167147\n",
       "\n",
       "[246 rows x 2 columns]"
      ]
     },
     "execution_count": 294,
     "metadata": {},
     "output_type": "execute_result"
    }
   ],
   "source": [
    "df = df.loc[:,['dateRep','Confirmed']] #Selecciono las columnas de analasis\n",
    "# Expresar las fechas en numero de dias desde el 01 Enero\n",
    "FMT = '%Y-%m-%d'\n",
    "date = df['dateRep']\n",
    "df['dateRep'] = date.map(lambda x : (datetime.strptime(x, FMT) - datetime.strptime(\"2020-02-28\", FMT)).days)\n",
    "df"
   ]
  },
  {
   "cell_type": "code",
   "execution_count": 295,
   "metadata": {},
   "outputs": [
    {
     "data": {
      "text/plain": [
       "Text(0, 0.5, 'Número Casos')"
      ]
     },
     "execution_count": 295,
     "metadata": {},
     "output_type": "execute_result"
    },
    {
     "data": {
      "image/png": "[encoded data removed]",
      "text/plain": [
       "<Figure size 432x288 with 1 Axes>"
      ]
     },
     "metadata": {
      "needs_background": "light"
     },
     "output_type": "display_data"
    }
   ],
   "source": [
    "# Represento los datos generados\n",
    "ax = df.plot(x ='dateRep', y='Confirmed',color='red',title='Casos de infectados de COVID-19 Ecuador')\n",
    "ax.set_xlabel(\"Días\")\n",
    "ax.set_ylabel(\"Número Casos\")"
   ]
  },
  {
   "cell_type": "markdown",
   "metadata": {},
   "source": [
    "## Regresión lineal simple\n",
    "**Introducción al modelo**\n",
    "\n",
    "La regresión lineal simple parte de una sóla variable predictora, es decir X=x1dondeX∈R y supone que existe aproximadamente una relación lineal entre X e Y. Esta relación lineal puede ser escrita como:\n",
    "\n",
    "<img src=\"img/1.PNG\">\n",
    "\n",
    "Los términos β0 y β1 representan respectivamente el interceptor(β0-ordenada en el origen ) y la pendiente(β1 ) del modelo lineal.\n",
    "\n",
    "Una vez obtenida la estimación de estos dos coeficientes se puede predecir la variable Y usando X conocidos y a partir de la siguiente fórmula:\n",
    "\n",
    "<img src=\"img/2.PNG\">\n"
   ]
  },
  {
   "cell_type": "code",
   "execution_count": 296,
   "metadata": {},
   "outputs": [
    {
     "name": "stdout",
     "output_type": "stream",
     "text": [
      "Ordenada al origen:  -20794.16256871067\n",
      "Pendiente:  712.6381945214146\n",
      "Error cuadrático medio: 48555124.23\n",
      "Estadístico R_2: 0.98\n"
     ]
    }
   ],
   "source": [
    "x = list(df.iloc [:, 0]) # Fecha\n",
    "y = list(df.iloc [:, 1]) # Numero de casos\n",
    "\n",
    "# Creo un modelo de regresión lineal\n",
    "modelo = linear_model.LinearRegression()\n",
    " \n",
    "# Entreno el modelo con los datos (X,Y)\n",
    "modelo.fit(np.array(x).reshape(-1,1), y)\n",
    "\n",
    "#Ahora vamoa a calcular b_0\n",
    "print (u'Ordenada al origen: ', modelo.intercept_)\n",
    "\n",
    "# Ahora puedo obtener el coeficiente b_1\n",
    "print (u'Pendiente: ', modelo.coef_[0])\n",
    "beta = modelo.coef_[0]#Modificar el valor de la pendiente.\n",
    "# Podemos predecir usando el modelo\n",
    "y_pred = modelo.predict(np.array(x).reshape(-1,1))\n",
    " \n",
    "# Por último, calculamos el error cuadrático medio y el estadístico R^2(Precisión del modelo.)\n",
    "print (u'Error cuadrático medio: %.2f' % mean_squared_error(y, y_pred))\n",
    "print (u'Estadístico R_2: %.2f' % r2_score(y, y_pred))"
   ]
  },
  {
   "cell_type": "code",
   "execution_count": 297,
   "metadata": {},
   "outputs": [
    {
     "data": {
      "image/png": "[encoded data removed]",
      "text/plain": [
       "<Figure size 432x288 with 1 Axes>"
      ]
     },
     "metadata": {
      "needs_background": "light"
     },
     "output_type": "display_data"
    }
   ],
   "source": [
    "#Graficar\n",
    "\n",
    "# Representamos el ajuste (rojo) y la recta Y = beta*x (verde)\n",
    "plt.scatter(x, y)#Dibujo mis puntos originales\n",
    "plt.plot(x, y_pred, color='red',linewidth=3.0) #Dibujo con os valores ya predecidos.\n",
    "\n",
    "#Bibujamos puntos reales.\n",
    "x_real = np.array([-10, 245])\n",
    "y_real = x_real *beta\n",
    "plt.plot(x_real, y_real, color='green',linewidth=3.0)\n",
    "\n",
    "\n",
    "#Propiedades\n",
    "plt.title('Casos de infectados de COVID-19 Ecuador')\n",
    "plt.xlabel('Días')\n",
    "plt.ylabel('Número Casos')\n",
    "plt.grid(color='r', linestyle='dotted', linewidth=0.5)\n",
    "plt.show()"
   ]
  },
  {
   "cell_type": "markdown",
   "metadata": {},
   "source": [
    "**2)PREDECIR PROXIMA SEMANA Y PROXIMO MES.**"
   ]
  },
  {
   "cell_type": "code",
   "execution_count": 298,
   "metadata": {},
   "outputs": [
    {
     "name": "stdout",
     "output_type": "stream",
     "text": [
      "Próxima Semana [172330.78814659]\n",
      "Próxima Mes [188721.46662059]\n"
     ]
    }
   ],
   "source": [
    "#Vamos a comprobar:\n",
    "#Quiero predecir cuántos \"Casos\" voy a obtener por en el dia 100,\n",
    "#Según nuestro modelo, hacemos:\n",
    "#264-EN EL DÍA 30 + 7 dias = 271\n",
    "y_semana = modelo.predict([[271]])\n",
    "print('Próxima Semana',y_semana)\n",
    "\n",
    "# Vamos a predecir el próximo mes.\n",
    "#264-EN EL DÍA 30 + 30 dias = 294\n",
    "y_mes = modelo.predict([[294]])\n",
    "print('Próxima Mes',y_mes)"
   ]
  },
  {
   "cell_type": "markdown",
   "metadata": {},
   "source": [
    "\n",
    "**3)CONSTRATE CUANTOS INFECTADOS Y RECUPERADOS UN MODELO DE REGRESION.**\n"
   ]
  },
  {
   "cell_type": "code",
   "execution_count": 299,
   "metadata": {},
   "outputs": [
    {
     "data": {
      "text/plain": [
       "Text(0, 0.5, 'Personas Recuperadas')"
      ]
     },
     "execution_count": 299,
     "metadata": {},
     "output_type": "execute_result"
    },
    {
     "data": {
      "image/png": "[encoded data removed]",
      "text/plain": [
       "<Figure size 432x288 with 1 Axes>"
      ]
     },
     "metadata": {
      "needs_background": "light"
     },
     "output_type": "display_data"
    }
   ],
   "source": [
    "#Leemos los datos.\n",
    "path='covid19.csv'\n",
    "df=pd.read_csv(path)\n",
    "#df.head(300)\n",
    "df = df.loc[:,['dateRep','Recovered']] #Selecciono las columnas de analasis\n",
    "# Expresar las fechas en numero de dias desde el 01 Enero\n",
    "FMT = '%Y-%m-%d'\n",
    "date = df['dateRep']\n",
    "df['dateRep'] = date.map(lambda x : (datetime.strptime(x, FMT) - datetime.strptime(\"2020-02-28\", FMT)).days)\n",
    "# Represento los datos generados\n",
    "ax = df.plot(x ='dateRep', y='Recovered',color='red',title='Casos de recuperados de COVID-19 Ecuador')\n",
    "ax.set_xlabel(\"Días\")\n",
    "ax.set_ylabel(\"Personas Recuperadas\")"
   ]
  },
  {
   "cell_type": "code",
   "execution_count": 300,
   "metadata": {},
   "outputs": [
    {
     "name": "stdout",
     "output_type": "stream",
     "text": [
      "Ordenada al origen:  -30758.67176853952\n",
      "Pendiente:  626.4709890512933\n",
      "Error cuadrático medio: 243572463.05\n",
      "Estadístico R_2: 0.89\n"
     ]
    }
   ],
   "source": [
    "#Aplicamos el modelo de regresion\n",
    "x = list(df.iloc [:, 0]) # Fecha\n",
    "y = list(df.iloc [:, 1]) # Numero de casos\n",
    "\n",
    "# Creo un modelo de regresión lineal\n",
    "modelo = linear_model.LinearRegression()\n",
    " \n",
    "# Entreno el modelo con los datos (X,Y)\n",
    "modelo.fit(np.array(x).reshape(-1,1), y)\n",
    "\n",
    "#Ahora vamoa a calcular b_0\n",
    "print (u'Ordenada al origen: ', modelo.intercept_)\n",
    "\n",
    "# Ahora puedo obtener el coeficiente b_1\n",
    "print (u'Pendiente: ', modelo.coef_[0])\n",
    "beta1 = modelo.coef_[0]#Modificar el valor de la pendiente.\n",
    "# Podemos predecir usando el modelo\n",
    "y_pred = modelo.predict(np.array(x).reshape(-1,1))\n",
    " \n",
    "# Por último, calculamos el error cuadrático medio y el estadístico R^2(Precisión del modelo.)\n",
    "print (u'Error cuadrático medio: %.2f' % mean_squared_error(y, y_pred))\n",
    "print (u'Estadístico R_2: %.2f' % r2_score(y, y_pred))"
   ]
  },
  {
   "cell_type": "code",
   "execution_count": 301,
   "metadata": {},
   "outputs": [
    {
     "data": {
      "image/png": "[encoded data removed]",
      "text/plain": [
       "<Figure size 432x288 with 1 Axes>"
      ]
     },
     "metadata": {
      "needs_background": "light"
     },
     "output_type": "display_data"
    }
   ],
   "source": [
    "#Graficar\n",
    "\n",
    "# Representamos el ajuste (rojo) y la recta Y = beta*x (verde)\n",
    "plt.scatter(x, y)#Dibujo mis puntos originales\n",
    "plt.plot(x, y_pred, color='red',linewidth=3.0) #Dibujo con os valores ya predecidos.\n",
    "\n",
    "#Bibujamos puntos reales.\n",
    "x_real = np.array([-10, 245])\n",
    "y_real = x_real *beta1\n",
    "plt.plot(x_real, y_real, color='green',linewidth=3.0)\n",
    "\n",
    "\n",
    "#Propiedades\n",
    "plt.title('Casos de recuperados de COVID-19 Ecuador')\n",
    "plt.xlabel('Días')\n",
    "plt.ylabel('Personas Recuperadas')\n",
    "plt.grid(color='r', linestyle='dotted', linewidth=0.5)\n",
    "plt.show()"
   ]
  },
  {
   "cell_type": "markdown",
   "metadata": {},
   "source": [
    "## Análisis\n",
    "Al momento de la introducción de la materia cuando el profesor hablaba de simulación desde mi punto de vista me parecia un tema no muy importante , como que no me llamaba la atención , pense que no era un tema relevante de aprender, pero ya a medida que que el profesor avanzaba con la materia las cosas fueron cambiando , y veo que la simulación es algo muy importante porque nos permite crear modelos que nos ayudan a poder predecir datos futuros , con la ayuda de lenguajes de programación como python se puede crear estos modelos, el empleo de modelos matemáticos como la regresión lineal y y el empleo de librerías que nos ayudan a poder realizarlo de una manera sencilla.\n",
    "\n",
    "\n",
    "## Conclusiones\n",
    "Al momento de la recolección de datos se puedo evidenciar que la información que se puede encontrar en el internet es muy variada debido a que en algunas fuentes la información tiene unos datos y en otras fuentes estas tienen otros datos, inclusive se llegar a dudar de los datos que proporciona el mismo ministerio de salud, inclusive los datos que dan los medios de comunicación no son tan creibles.\n",
    "Se puede observar que en nuestro país, al incio de la pandemia los casos crecíal levemente como se puede ver en la gráfica. \n",
    "\n",
    "<img src=\"img/3.PNG\">\n",
    "\n",
    "**CONTAGIOS**\n",
    "\n",
    "Pero vemos que desde el mes de Marzo los casos comenzaron a crecer de una manera muy rápida, en la gráfica se pueve ver como que los casos fueron creciendo una manera muy leve , debido a que como vemos python nos gráfica con saltos grandes (escala de 25.000) para poder graficar todos los puntos, pero si hacemos la gráfica ya con la pendiente en herramientas gráficas como Desmos, Geogebra se puede ver que la recta de regresion valga la redundancia es una recta muy vertical es decir la inclinacion que se tiene es muy leve, y eso se puede comprobar con el valor de la pendiete que es de 712.6381945214146  \n",
    "\n",
    "**RECUPERADOS**\n",
    "\n",
    "En el caso de la personas recuperadas de Covid-19 se puede ver que al incio de la pandemia los caso de recuperados eran muy pocos,inclusive en los meses posteriores las recuperaciones fueran pocas si comparamos con los casos de personas contagiadas.\n",
    "\n",
    "\n",
    "## Criterio personal (politico, economico y  social de la situacion)\n",
    "\n",
    "Vemos que en el caso de nuestro país la curva de contagios aún no se aplana inclusive sigue en crecimiento, en el aspecto político como que no se hace mucho , inclusive se podria decir que es nula la ayuda para poder mejor la situacion del país , porque si vemos los reportajes nuestro país ha estado entre  los que peor ha mejorado la pandemia, en el aspecto ecónomico la gente ha tenido que salir de su hogares a seguir laborando debido que la mayoría de los ecuatorianos basan su economía con las ventas del día a día, y mantenerse en cuarentena es imposible, en el apsecto social muchos y muchas ecuatorianos no han tomado la pandemia con la serieda que se requiere , quiza al inicio de la pandemia si lo hicieron pero con el pasar de los días vemos que nuestra cultura como tal no se ha formado de mejor manera , porque ahora ya ni respetamos las normas basicas de bioseguridad para pode evitar la propagación del virus."
   ]
  },
  {
   "cell_type": "markdown",
   "metadata": {},
   "source": [
    "# REFERENCIAS"
   ]
  },
  {
   "cell_type": "markdown",
   "metadata": {},
   "source": [
    "https://github.com/CSSEGISandData/COVID-19\n",
    "\n",
    "https://data.europa.eu/euodp/es/data/dataset/covid-19-coronavirus-data\n",
    "\n",
    "http://www.gisandbeers.com/descarga-datos-de-coronavirus-actualizados-diariamente-covid19/\n",
    "\n",
    "https://machinelearningparatodos.com/regresion-lineal-en-python/\n"
   ]
  },
  {
   "cell_type": "code",
   "execution_count": null,
   "metadata": {},
   "outputs": [],
   "source": []
  }
 ],
 "metadata": {
  "kernelspec": {
   "display_name": "Python 3",
   "language": "python",
   "name": "python3"
  },
  "language_info": {
   "codemirror_mode": {
    "name": "ipython",
    "version": 3
   },
   "file_extension": ".py",
   "mimetype": "text/x-python",
   "name": "python",
   "nbconvert_exporter": "python",
   "pygments_lexer": "ipython3",
   "version": "3.7.6"
  }
 },
 "nbformat": 4,
 "nbformat_minor": 4
}
