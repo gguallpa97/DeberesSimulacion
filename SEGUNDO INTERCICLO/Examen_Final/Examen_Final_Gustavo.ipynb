{
 "cells": [
  {
   "cell_type": "markdown",
   "metadata": {},
   "source": [
    "# UNIVERSIDAD POLITÉCNICA SALESIANA \n",
    "# El VECINO - CUENCA\n",
    "\n",
    "**Estudiante:** Gustavo Guallpa\n",
    "\n",
    "**Profesor:** Ing. Diego Quisi\n",
    "\n",
    "**Asignatura:** Simulación.\n",
    "\n",
    "**Fecha:** 08/02/2020.\n",
    "\n",
    "**Tema:** Examen Final de Simulación."
   ]
  },
  {
   "cell_type": "markdown",
   "metadata": {},
   "source": [
    "# IMPORTAMOS LA LIBRERIAS NECESARIAS."
   ]
  },
  {
   "cell_type": "code",
   "execution_count": 47,
   "metadata": {},
   "outputs": [],
   "source": [
    "import smtplib, sys, re\n",
    "import gspread\n",
    "from oauth2client.service_account import ServiceAccountCredentials\n",
    "import smtplib\n",
    "from email.mime.multipart import MIMEMultipart\n",
    "from email.mime.text import MIMEText\n",
    "from email.mime.base import MIMEBase\n",
    "from email import encoders\n",
    "import tweepy\n",
    "from selenium import webdriver\n",
    "from selenium.webdriver.support.ui import WebDriverWait\n",
    "from selenium.webdriver.common.keys import Keys\n",
    "import random\n",
    "import json\n",
    "from datetime import datetime, timedelta\n",
    "from threading import Thread\n",
    "from time import sleep\n",
    "import csv"
   ]
  },
  {
   "cell_type": "markdown",
   "metadata": {},
   "source": [
    "# RECUPERAMOS LOS DATOS CLIENTES QUE VAMOS A ENVIAR LOS CORREOS.\n",
    "#Documento:https://docs.google.com/spreadsheets/d/1UvIRwmo7VTfRFmXlMkdxIWcI-ilb6wQh9964OhE_Zts/edit?usp=sharing\n",
    "Se puede visualizar los nombres, apellidos , correo electrónico y su estado."
   ]
  },
  {
   "cell_type": "code",
   "execution_count": 48,
   "metadata": {},
   "outputs": [],
   "source": [
    "# use creds to create a client to interact with the Google Drive API\n",
    "scope = ['https://spreadsheets.google.com/feeds', 'https://www.googleapis.com/auth/drive']\n",
    "creds = ServiceAccountCredentials.from_json_keyfile_name('client_secret.json', scope)\n",
    "client = gspread.authorize(creds)\n",
    "\n",
    "# Find a workbook by name and open the first sheet\n",
    "# Make sure you use the right name here.\n",
    "sheet = client.open(\"Clientes\").sheet1\n",
    "\n",
    "# Extract and print all of the values\n",
    "list_of_hashes = sheet.col_values(3)\n"
   ]
  },
  {
   "cell_type": "markdown",
   "metadata": {},
   "source": [
    "# MOSTRAMOS LOS CORREOS."
   ]
  },
  {
   "cell_type": "code",
   "execution_count": 49,
   "metadata": {},
   "outputs": [
    {
     "name": "stdout",
     "output_type": "stream",
     "text": [
      "['gguallpa97@outlook.es', 'frankling1997@hotmail.com', 'pedrogualllpa1234@gmail.com', 'ismaelcastillo.1996.960@gmail.com\\r']\n"
     ]
    }
   ],
   "source": [
    "print(list_of_hashes)"
   ]
  },
  {
   "cell_type": "markdown",
   "metadata": {},
   "source": [
    "# MOSTRAMOS TODO LOS DATOS."
   ]
  },
  {
   "cell_type": "code",
   "execution_count": 50,
   "metadata": {},
   "outputs": [
    {
     "name": "stdout",
     "output_type": "stream",
     "text": [
      "[{'nombre': 'Gustavo', 'apellido': 'Guallpa', 'email': 'gguallpa97@outlook.es', 'estado': 'Activo'}, {'nombre': 'Franklin', 'apellido': 'Guallpa', 'email': 'frankling1997@hotmail.com', 'estado': 'Activo'}, {'nombre': 'Pedro', 'apellido': 'Guallpa', 'email': 'pedrogualllpa1234@gmail.com', 'estado': 'Activo'}, {'nombre': 'Ismael', 'apellido': 'Castillo', 'email': 'ismaelcastillo.1996.960@gmail.com\\r', 'estado': 'Activo'}]\n"
     ]
    }
   ],
   "source": [
    "# Devuelve un array con los destinatarios en diccionario: \n",
    "#destinatario['nombre'] y destinatario['email']\n",
    "def get_detinatarios(textfile):\n",
    "    cont=0\n",
    "    destinatarios = []\n",
    "    # El fichero de donde lee los correos y nombres\n",
    "    #print(lines)\n",
    "    for line in textfile:\n",
    "        #print(line)\n",
    "        destinatario = {}\n",
    "        #print(line_words)\n",
    "        destinatario['nombre'] = textfile[cont][0]\n",
    "        destinatario['apellido'] = textfile[cont][1]\n",
    "        destinatario['email'] = textfile[cont][2]\n",
    "        destinatario['estado'] = textfile[cont][3]\n",
    "        destinatarios.append(destinatario)\n",
    "        cont= cont+1\n",
    "    return destinatarios\n",
    "\n",
    "destinatarios = get_detinatarios(sheet.get_all_values())\n",
    "print(destinatarios)"
   ]
  },
  {
   "cell_type": "markdown",
   "metadata": {},
   "source": [
    "# UTILIZANDO SELENIUM"
   ]
  },
  {
   "cell_type": "code",
   "execution_count": 51,
   "metadata": {},
   "outputs": [],
   "source": [
    "consumer_key = \"uLbkQhYPrTC9m9OFu9nPDNLqW\"\n",
    "consumer_secret = \"KEavvCLW21schVttJiHM82ZfD2xHQwFnzJXNg2en1R65hIEdXx\"\n",
    "access_token = \"773341738194862081-n6XhkmDWMQsSR8bMhWgWLnVo82y3I69\"\n",
    "access_token_secret = \"y3HfYdEDNc63jrCmjfFaEK3jLMIDl0D4Z1M7Zb6rdIins\"\n",
    "\n",
    "auth = tweepy.OAuthHandler(consumer_key, consumer_secret)\n",
    "auth.set_access_token(access_token, access_token_secret)\n",
    "\n",
    "\n",
    "#Instancio el objeto.\n",
    "api = tweepy.API(auth, wait_on_rate_limit=True,wait_on_rate_limit_notify=True)"
   ]
  },
  {
   "cell_type": "code",
   "execution_count": 56,
   "metadata": {},
   "outputs": [],
   "source": [
    "url = 'https://twitter.com/login'\n",
    "\n",
    "# change this path to where the chromedriver is on your machine\n",
    "CHROMEDRIVERPATH = 'C:/Program Files (x86)/Google/Chrome/Application/chromedriver.exe'\n",
    "\n",
    "# change this to your username and password\n",
    "userUsername = ''\n",
    "userPassword = ''\n",
    "\n",
    "#GENERAMOS UN NUMERO RANDOMICO PARA ENVIAR EL FLAYER DE CUAQUIER CANDIDATO\n",
    "def genCandidato():\n",
    "    for i in range(1):\n",
    "        candidato=random.randrange(1, 4, 1)\n",
    "    return candidato\n",
    "\n",
    "def login():\n",
    "    browser = webdriver.Chrome(CHROMEDRIVERPATH)\n",
    "    browser.get(url)\n",
    "\n",
    "    browser.implicitly_wait(5)\n",
    "\n",
    "    user = browser.find_element_by_name('session[username_or_email]')\n",
    "    user.send_keys(userUsername)\n",
    "\n",
    "    password = browser.find_element_by_name('session[password]')\n",
    "    password.send_keys(userPassword)\n",
    "    password.send_keys(Keys.ENTER)\n",
    "    browser.implicitly_wait(5)\n",
    "    \n",
    "    candidat=0\n",
    "    cuerpo=''\n",
    "    candidato = genCandidato()\n",
    "    if candidato == 1:\n",
    "        cuerpo = '#Elecciones#2021 VOTA POR TU ASAMBLEISTA FAVORITA: DORIS SOLIZ'\n",
    "        candidat=0\n",
    "        print(cuerpo)\n",
    "    if candidato == 2:\n",
    "        cuerpo = '#Elecciones#2021 VOTA POR TU ASAMBLEISTA FAVORITO: ESTEBAN ALBORNOZ'\n",
    "        candidat=1\n",
    "        print(cuerpo)\n",
    "    if candidato == 3:\n",
    "        cuerpo = '#Elecciones#2021 VOTA POR TU ASAMBLEISTA FAVORITA: LOURDES CUESTA'\n",
    "        candidat=2\n",
    "        print(cuerpo)\n",
    "    print(candidat)\n",
    "    # ******************** ESCRIBIMOS QUE VAMOS A POSTEAR ********************\n",
    "    tweet = browser.find_element_by_css_selector(\"br[data-text='true']\")\n",
    "    tweet.send_keys(cuerpo) \n",
    "    button = browser.find_element_by_css_selector(\"div[data-testid='tweetButtonInline']\")\n",
    "    button.click()\n",
    "    \n",
    "    \n",
    "    \n",
    "    # ******************** SUBIMOS LA IMAGEN ********************\n",
    "    candidatos= ['dorissoliz.jpg','ealbornozv.jpg','LourdesCuestaO.jpg']\n",
    "    media = api.media_upload(candidatos[candidat])\n",
    "\n",
    "    # Post tweet with image\n",
    "    tweet = cuerpo\n",
    "    post_result = api.update_status(status=tweet, media_ids=[media.media_id])\n",
    "\n",
    "\n",
    "\n",
    "    # ******************** ENVIAMOS EL CORREO ********************\n",
    "    remitente = 'ASAMBLEISTAS AZUAY'\n",
    "    destinatarios = list_of_hashes\n",
    "    asunto = 'ELECCIONES-FEBRERO-2021'\n",
    "    ruta_adjunto = candidatos[candidat]\n",
    "    nombre_adjunto = candidatos[candidat]\n",
    "\n",
    "\n",
    "    # Creamos el objeto mensaje\n",
    "    mensaje = MIMEMultipart()\n",
    "\n",
    "    # Establecemos los atributos del mensaje\n",
    "    mensaje['From'] = remitente\n",
    "    mensaje['To'] = \", \".join(destinatarios)\n",
    "    mensaje['Subject'] = asunto\n",
    "\n",
    "    # Agregamos el cuerpo del mensaje como objeto MIME de tipo texto\n",
    "    mensaje.attach(MIMEText(cuerpo, 'plain'))\n",
    "\n",
    "    # Abrimos el archivo que vamos a adjuntar\n",
    "    archivo_adjunto = open(ruta_adjunto, 'rb')\n",
    "\n",
    "    # Creamos un objeto MIME base\n",
    "    adjunto_MIME = MIMEBase('application', 'octet-stream')\n",
    "    # Y le cargamos el archivo adjunto\n",
    "    adjunto_MIME.set_payload((archivo_adjunto).read())\n",
    "    # Codificamos el objeto en BASE64\n",
    "    encoders.encode_base64(adjunto_MIME)\n",
    "    # Agregamos una cabecera al objeto\n",
    "    adjunto_MIME.add_header('Content-Disposition', \"attachment; filename= %s\" % nombre_adjunto)\n",
    "    # Y finalmente lo agregamos al mensaje\n",
    "    mensaje.attach(adjunto_MIME)\n",
    "\n",
    "    # Creamos la conexión con el servidor\n",
    "    sesion_smtp = smtplib.SMTP('smtp.gmail.com', 587)\n",
    "\n",
    "    # Ciframos la conexión\n",
    "    sesion_smtp.starttls()\n",
    "\n",
    "    # Iniciamos sesión en el servidor\n",
    "    sesion_smtp.login('','')\n",
    "\n",
    "    # Convertimos el objeto mensaje a texto\n",
    "    texto = mensaje.as_string()\n",
    "\n",
    "    # Enviamos el mensaje\n",
    "    sesion_smtp.sendmail(remitente, destinatarios, texto)\n",
    "\n",
    "    # Cerramos la conexión\n",
    "    sesion_smtp.quit()\n",
    "    \n",
    "    print('CORREO ENVIADOS EXITOSAMENTE.')\n",
    "    #Cerramos el navegador\n",
    "    browser.close()"
   ]
  },
  {
   "cell_type": "code",
   "execution_count": 58,
   "metadata": {},
   "outputs": [
    {
     "name": "stdout",
     "output_type": "stream",
     "text": [
      "#Elecciones#2021 VOTA POR TU ASAMBLEISTA FAVORITA: LOURDES CUESTA\n",
      "2\n",
      "CORREO ENVIADOS EXITOSAMENTE.\n"
     ]
    }
   ],
   "source": [
    "login()"
   ]
  },
  {
   "cell_type": "markdown",
   "metadata": {},
   "source": [
    "# REPORTE"
   ]
  },
  {
   "cell_type": "code",
   "execution_count": 59,
   "metadata": {},
   "outputs": [],
   "source": [
    "def reporte(): \n",
    "    # ******************** GENERAMOS EL REPORTE ********************\n",
    "    me = api.me()\n",
    "    #print (json.dumps(me._json,indent=2))\n",
    "    #Seccion de campos a extraer\n",
    "    #remove(\"candidatos.csv\")# Descomentar si se va a elimna para cargar con nuevos datos.\n",
    "    #Seccion de campos a extraer\n",
    "    name, user,follower,text, menciones, likes, hashtags, share = '','', '' ,'','','','',''\n",
    "    #Nombres dentro de csv\n",
    "    rows  = [['Nombre', 'usuario','followers','contenido','menciones','hashtags','likes','veces compartido']]\n",
    "    contador_filas =0\n",
    "\n",
    "    data = api.get_user('gguallpa97')\n",
    "    print('Datos de mi Perfil: '+ data._json['name'])\n",
    "    diccionario =data._json['entities'] \n",
    "    lista=[]\n",
    "    \n",
    "    for link in diccionario :  #recorremos \n",
    "        valor = diccionario[link]\n",
    "        for vrd_valor in valor:\n",
    "            lista = [lista,valor[vrd_valor]]\n",
    "    \n",
    "    print('https://twitter.com/gguallpa97')\n",
    "    print('Tweets del Perfil.')\n",
    "    name, user, followers = data._json['name'],data._json['screen_name'],data._json['followers_count']\n",
    "    print(followers)\n",
    "    for tweet in tweepy.Cursor(api.user_timeline,tweet_mode = 'extend').items(100):\n",
    "        diccionario =tweet._json['entities'] \n",
    "        hashtags = diccionario['hashtags']\n",
    "        menciones = diccionario['user_mentions']\n",
    "        i=0;\n",
    "        j=0;\n",
    "        #print('HASHTAGS:')\n",
    "        users_mnc=''\n",
    "        hastags=''\n",
    "        for dia in hashtags:\n",
    "            hst = dia\n",
    "            for links in hst:\n",
    "                i=i+1\n",
    "                if i == 1:\n",
    "                    hastags =hst[links]\n",
    "                    #print(hastags)\n",
    "\n",
    "        #print('USERS MECIONADOS:')\n",
    "        for m in menciones:\n",
    "            mnc = m\n",
    "           #print(mnc)\n",
    "            for m_user in mnc:\n",
    "                j=j+1\n",
    "                if j == 1:\n",
    "                    users_mnc=mnc[m_user]\n",
    "                    #print(mnc[m_user])\n",
    "        text, menciones, likes,share=tweet._json['text'].encode(\"utf-8\"),users_mnc,tweet._json['favorite_count'],tweet._json['retweet_count']       \n",
    "        single_row=[name, user, followers, text, menciones,hastags, likes, share]\n",
    "        \n",
    "        rows.append(single_row)\n",
    "        \n",
    "    with open('reporte.csv', 'w', newline='') as file:\n",
    "        writer = csv.writer(file)\n",
    "        writer.writerows(rows)"
   ]
  },
  {
   "cell_type": "code",
   "execution_count": 60,
   "metadata": {},
   "outputs": [
    {
     "name": "stdout",
     "output_type": "stream",
     "text": [
      "Datos de mi Perfil: Gustavo Guallpa\n",
      "https://twitter.com/gguallpa97\n",
      "Tweets del Perfil.\n",
      "10\n"
     ]
    }
   ],
   "source": [
    "reporte()"
   ]
  },
  {
   "cell_type": "code",
   "execution_count": 46,
   "metadata": {},
   "outputs": [
    {
     "name": "stdout",
     "output_type": "stream",
     "text": [
      "Ejecución automática iniciadaA espera de la ejecución\n",
      "\n",
      "Proxima ejecución programada el 2021-02-08 a las 05:56:00\n",
      "A espera de la ejecución\n",
      "A espera de la ejecución\n",
      "A espera de la ejecución\n",
      "A espera de la ejecución\n",
      "A espera de la ejecución\n",
      "A espera de la ejecución\n",
      "A espera de la ejecución\n",
      "A espera de la ejecución\n",
      "A espera de la ejecución\n",
      "Función ejecutada\n",
      "Ejecución programada ejecutada el 2021-02-08 a las 05:56:00\n",
      "VOTA POR TU ASAMBLEISTA FAVORITO: 2\n",
      "1\n",
      "CORREO ENVIADOS EXITOSAMENTE.\n",
      "Datos de mi Perfil: Gustavo Guallpa\n",
      "https://twitter.com/gguallpa97\n",
      "Tweets del Perfil.\n",
      "9\n",
      "Próxima ejecución programada el 2021-02-09 a las 05:56:00\n"
     ]
    }
   ],
   "source": [
    "class Temporizador(Thread):\n",
    "    def __init__(self, hora, delay, funcion):\n",
    "        # El constructor recibe como parámetros:\n",
    "        ## hora = en un string con formato hh:mm:ss y es la hora a la que queremos que se ejecute la función.\n",
    "        ## delay = tiempo de espera entre comprobaciones en segundos.\n",
    "        ## funcion = función a ejecutar.\n",
    "\n",
    "        super(Temporizador, self).__init__()\n",
    "        self._estado = True\n",
    "        self.hora = hora\n",
    "        self.delay = delay\n",
    "        self.funcion = funcion\n",
    "\n",
    "    def stop(self):\n",
    "        self._estado = False\n",
    "\n",
    "    def run(self):\n",
    "        # Pasamos el string a dato tipo datetime\n",
    "        aux = datetime.strptime(self.hora, '%H:%M:%S')\n",
    "        # Obtenemos la fecha y hora actuales.\n",
    "        hora = datetime.now()\n",
    "        # Sustituimos la hora por la hora a ejecutar la función.\n",
    "        hora = hora.replace(hour = aux.hour, minute=aux.minute, second=aux.second, microsecond = 0)\n",
    "        # Comprobamos si la hora ya a pasado o no, si ha pasado sumamos un dia (hoy ya no se ejecutará).\n",
    "        if hora <= datetime.now():\n",
    "            hora += timedelta(days=1)\n",
    "        print('Ejecución automática iniciada')\n",
    "        print('Proxima ejecución programada el {0} a las {1}'.format(hora.date(),  hora.time()))\n",
    "\n",
    "        # Iniciamos el ciclo:\n",
    "        while self._estado:\n",
    "            # Comparamos la hora actual con la de ejecución y ejecutamos o no la función.\n",
    "            ## Si se ejecuta sumamos un dia a la fecha objetivo.\n",
    "            if hora <= datetime.now():\n",
    "                self.funcion()\n",
    "                print('Ejecución programada ejecutada el {0} a las {1}'.format(hora.date(),  hora.time()))\n",
    "                hora += timedelta(days=1)\n",
    "                login()\n",
    "                reporte()\n",
    "                print('Próxima ejecución programada el {0} a las {1}'.format(hora.date(),  hora.time()))\n",
    "\n",
    "            # Esperamos x segundos para volver a ejecutar la comprobación.\n",
    "            sleep(self.delay)\n",
    "\n",
    "        #Si usamos el método stop() salimos del ciclo y el hilo terminará.\n",
    "        else:\n",
    "             print('Ejecución automática finalizada')\n",
    "\n",
    "\n",
    "#=========================================================================================\n",
    "#Ejemplo de uso:\n",
    "\n",
    "def ejecutar():\n",
    "    print('Función ejecutada')\n",
    "\n",
    "t = Temporizador('05:56:00',1,ejecutar)# Instanciamos nuestra clase Temporizador\n",
    "t.start() #Iniciamos el hilo\n",
    "\n",
    "#Mientras el programa principal puede seguir funcinando:\n",
    "#sleep(2)\n",
    "for _ in range(10):\n",
    "    print('A espera de la ejecución')\n",
    "    sleep(2)\n",
    "\n",
    "# Si en cualquier momento queremos detener el hilo desde la aplicacion simplemete usamos el método stop()\n",
    "#sleep(120) # Simulamos un tiempo de espera durante el cual el programa principal puede seguir funcionando. \n",
    "#t.stop()   # Detenemos el hilo."
   ]
  },
  {
   "cell_type": "code",
   "execution_count": null,
   "metadata": {},
   "outputs": [],
   "source": []
  },
  {
   "cell_type": "code",
   "execution_count": null,
   "metadata": {},
   "outputs": [],
   "source": []
  }
 ],
 "metadata": {
  "kernelspec": {
   "display_name": "Inteligencia_Artificial_II",
   "language": "python",
   "name": "inteligencia_artificial_ii"
  },
  "language_info": {
   "codemirror_mode": {
    "name": "ipython",
    "version": 3
   },
   "file_extension": ".py",
   "mimetype": "text/x-python",
   "name": "python",
   "nbconvert_exporter": "python",
   "pygments_lexer": "ipython3",
   "version": "3.7.9"
  }
 },
 "nbformat": 4,
 "nbformat_minor": 4
}
