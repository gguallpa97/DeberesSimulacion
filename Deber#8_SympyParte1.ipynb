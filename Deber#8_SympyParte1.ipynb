{
 "cells": [
  {
   "cell_type": "markdown",
   "metadata": {},
   "source": [
    "## UNIVERSIDAD POLITÉCNICA SALESIANA¶\n",
    "## El VECINO - CUENCA\n",
    "\n",
    "**Estudiante:**Gustavo Guallpa\n",
    "\n",
    "**Profesor:** Ing. Diego Quisi\n",
    "\n",
    "**Asignatura:** Simulación\n",
    "\n",
    "**Fecha:** 07/12/2020.\n",
    "\n",
    "**Tema:** Investigación del COVID-19 en Venezuela."
   ]
  },
  {
   "cell_type": "markdown",
   "metadata": {},
   "source": [
    "- Investigar el proceso de atencion de un paciente diagnosticado con COVID-19, ademas de tiempos de atencion, recursos necesarios y tipos de pacientes."
   ]
  },
  {
   "cell_type": "markdown",
   "metadata": {},
   "source": [
    "**PROCESO**\n",
    "\n",
    "1.Al ingreso  de  un  paciente  con  cuadro  sospechoso  de  COVID-19 se  debe realizar  laanamnesis indagando sobre los viajes realizados en las últimas tres semanas, haciendohincapié   en  la   estancia   en  regiones   con  alta   circulación   del   virus   o  contacto   conpersonas   que  han  estado  en   dichas  regiones,  asimismo,   se   ha   de   indagar   sobre  lapresencia de comorbilidades como HTA, DM-I y II, enfermedad renal o cardiovascularpara categorizar como población de riesgo y proceder en concordancia con un controlmás estricto de parámetros vitales y protocolo de aislamiento.\n",
    "\n",
    "2.Al  examen   físico,  ha de realizarse control de temperatura dada la  prevalencia   de   estesigno   en   los   afectados   por   COVID-19,   y   valorar   la   función   respiratoria  (vigilar)frecuencia  respiratoria  y  SO2).  Vigilar  en   búsqueda  de  signos  tempranos  de  disnea,fatiga, estertores pulmonares o sonidos respiratorios debilitados\n",
    "\n",
    "3.Se ha de realizar un balance estricto de líquidos ingeridos y eliminados, para identificarcompromiso renal temprano.\n",
    "\n",
    "4.Dado que la dependencia parcial es usual, sobre todo en las formas más severas de laenfermedad dada la magnitud de la disnea, la fatiga y el dolor muscular, se deben suplirlas necesidades de autocuidado en la movilización, higiene, alimentación y otras áreasen las que se requiera ayuda. Se debe limitar la movilización del paciente para reducir elriesgo de caídas.\n",
    "\n",
    "\n",
    "5.La  oxigenoterapia  es  útil  en   todos   los   pacientes  con  signos  de   distrés   respiratorio,incluyendo   las  presentaciones   más   leves  y   como  se   mencionó   anteriormente,  es   laprincipal intervención disponible. Se debe proporcionar según el cuadro del paciente, locual incluye desde el uso de cánula nasal en las formas menos agresivas de la infección,hasta la   oxigenoterapia de  alto  flujo, ventilación  mecánica  no invasiva   y ventilaciónmecánica  invasiva  en  los   casos  de  hipoxia  severa   o  SDRA, siempre  atendiendo   lasdirectrices del médico tratante\n",
    "\n",
    "\n",
    "En caso de pacientes sanos que presenten factores de riesgo para las formas graves deCOVID-19 y que se encuentren en internación o asistencia domiciliar, se debe:\n",
    "\n",
    "\n",
    "- Ayudar al paciente y sus familiares a manejar la incertidumbre y el miedo ante lasituación socio-sanitaria y la propia salud.\n",
    "\n",
    "- Implementar   estrategias   de   afrontamiento   eficaces,   como   la   práctica   demeditación, tai chi o yoga, siempre dentro de la seguridad del hogar.\n",
    "\n",
    "- El acceso a las redes sociales (Facebook, Instagram, Whatsapp) puede facilitar elproceso  de aislamiento al mantener al  paciente comunicado con su  entorno demanera   segura,   sin  embargo,  el   exceso   de   información   disponible   en  granmedida  falsa  contribuye   a  aumentar  la  ansiedad, por  lo  que  se   deben  buscarmedidas del uso eficaz del tiempo y buscar alternativas como leer un libro o eldiario. No se sugiere restringir el uso de redes sociales dado el riesgo de padecerefectos negativos del aislamiento social como la depresión, especialmente en losadultos mayores\n",
    "\n",
    "- Realice actividades físicas dentro del lugar de residencia (sala, pasillos, terrazas,etc.) o en espacios de baja concurrencia y al aire libre. Implementar el lavado demanos  posterior  a  realizar   las  actividades  o  usar   soluciones   hidroalcohólicasdespués del contacto con superficies u objetos del exterior.\n",
    "\n",
    "https://www.researchgate.net/publication/340006919_Proceso_Enfermero_en_la_infeccion_por_COVID-19_y_entonces_Como_procedemos\n",
    "\n",
    "\n",
    "**TIEMPO DE ATENCION**\n",
    "\n",
    "No existe un tiempo definido, puede variar dependiedo del tipo de paciente.\n",
    "\n",
    "\n",
    "**RECURSOS NECESARIO**\n",
    "•\t Sé minucioso, cauteloso y no te apresures\n",
    "\n",
    "•\t Lavarse las manos\n",
    "* Ponerse el PPE con las medidas de protección\n",
    "•\t Mascarilla FFP3\n",
    "\n",
    "•\t Guantes\n",
    "\n",
    "•\t Protector del pelo\n",
    "\n",
    "•\t Botas desechables\n",
    "\n",
    "•\t El equipo de protección\n",
    "debe ser desechable\n",
    "\n",
    "•\t Verificar el equipo asignado\n",
    "para el abordaje de la vía\n",
    "aérea\n",
    "\n",
    "•\t Identificación del nombre\n",
    "del personal en las viseras\n",
    "o lentes\n",
    "\n",
    "•\t Identificación del personal\n",
    "en las viseras o lentes\n",
    "\n",
    "**TIPO DE PACIENTES**\n",
    "\n",
    "- Asintomáticos\n",
    "- Sin alteración pulmonar.\n",
    "- Infiltrados pulmonares.\n",
    "- Hipoxemia importante.\n",
    "- Necesidad de intubación."
   ]
  },
  {
   "cell_type": "markdown",
   "metadata": {},
   "source": [
    "- Investigar en cada una de las provincias asignadas el numero de hospitales, camas, respiradores y personal medico, limpieza y enfermeria.\n"
   ]
  },
  {
   "cell_type": "markdown",
   "metadata": {},
   "source": [
    "**NUMERO DE HOSPITALES**\n",
    "\n",
    "En venezuela existen 240 hospitales, pero 46 hospitales centinelas.\n",
    "\n",
    "https://www.amnesty.org/es/latest/news/2020/08/venezuelan-authorities-are-repressing-and-failing-to-protect-health-workers-as-covid-19-gathers-force/#:~:text=Si%20bien%20esta%20es%20una,protecci%C3%B3n%20para%20todos%20los%20hospitales.\n",
    "\n",
    "**CAMAS**\n",
    "\n",
    "Cuenta con 23.000 camas de hospitalizacion.\n",
    "\n",
    "https://www.voanoticias.com/venezuela/venezuela-coronavirus-costos-impagable\n",
    "\n",
    "**RESPIRADORES**\n",
    "\n",
    "25 Respiradores.\n",
    "\n",
    "https://www.elcomercio.com/actualidad/turquia-entrega-venezuela-insumos-coronavirus.html\n",
    "\n",
    "**PERSONAL MEDICO**\n",
    "\n",
    "56.221 médicos.\n",
    "\n",
    "http://ve.scielo.org/scielo.php?script=sci_arttext&pid=S1690-31102006000200001\n",
    "\n",
    "**LIMPIEZA**\n",
    "\n",
    "7900 Persona encargadas de la limpieza.\n",
    "\n",
    "**ENFERMERIA.**\n",
    "\n",
    " 27.200 enfermeras."
   ]
  },
  {
   "cell_type": "markdown",
   "metadata": {},
   "source": [
    "- Finalmente el costo de atender a un paciente con COVID-19 y medicamentos."
   ]
  },
  {
   "cell_type": "markdown",
   "metadata": {},
   "source": [
    "**COSTO DE ATENCION**\n",
    "\n",
    "Entre 400 y 1.500 dólares cuesta la hospitalización por día en pacientes por COVID-19 porque es un tratamiento costoso y es de larga estadía para el paciente.\n",
    "\n",
    "**MEDICAMENTOS.**\n",
    "\n",
    "Remdesivir\n",
    "\n",
    "https://www.fda.gov/news-events/press-announcements/la-fda-aprueba-el-primer-tratamiento-para-el-covid-19\n"
   ]
  },
  {
   "cell_type": "code",
   "execution_count": null,
   "metadata": {},
   "outputs": [],
   "source": []
  }
 ],
 "metadata": {
  "kernelspec": {
   "display_name": "Inteligencia_Artificial_II",
   "language": "python",
   "name": "inteligencia_artificial_ii"
  },
  "language_info": {
   "codemirror_mode": {
    "name": "ipython",
    "version": 3
   },
   "file_extension": ".py",
   "mimetype": "text/x-python",
   "name": "python",
   "nbconvert_exporter": "python",
   "pygments_lexer": "ipython3",
   "version": "3.7.9"
  }
 },
 "nbformat": 4,
 "nbformat_minor": 2
}
