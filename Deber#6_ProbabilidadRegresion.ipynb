{
 "cells": [
  {
   "cell_type": "markdown",
   "metadata": {},
   "source": [
    "# UNIVERSIDAD POLITÉCNICA SALESIANA \n",
    "# El VECINO - CUENCA\n",
    "\n",
    "**Estudiante:**Gustavo Guallpa\n",
    "\n",
    "**Profesor:** Ing. Diego Quisi\n",
    "\n",
    "**Asignatura:** Simulación\n",
    "\n",
    "**Fecha:** 16/11/2020.\n",
    "\n",
    "**Tema:** Regresión:COVID-19 ECUADOR"
   ]
  },
  {
   "cell_type": "markdown",
   "metadata": {},
   "source": [
    "# Covid-19 infección en Ecuador. Modelos probabilisticos\n",
    "Implementacion de un modelo probabilistico de infección por el virus Covid-19\n",
    "\n",
    "Se realiza un análisis probabilistico simple del crecimiento de la infección en Python y el modelos para comprender mejor la evolución de la infección.\n",
    "\n",
    "Se crea modelos de series temporales del número total de personas infectadas hasta la fecha (es decir, las personas realmente infectadas más las personas que han sido infectadas). Estos modelos tienen parámetros , que se estimarán por ajuste de probabilidad."
   ]
  },
  {
   "cell_type": "code",
   "execution_count": 228,
   "metadata": {},
   "outputs": [],
   "source": [
    "# Importar las librerias para el analasis\n",
    "import pandas as pd\n",
    "import numpy as np\n",
    "from datetime import datetime,timedelta\n",
    "from sklearn.metrics import mean_squared_error,r2_score\n",
    "from scipy.optimize import curve_fit\n",
    "from scipy.optimize import fsolve\n",
    "from sklearn import linear_model\n",
    "import matplotlib.pyplot as plt\n",
    "%matplotlib inline\n"
   ]
  },
  {
   "cell_type": "code",
   "execution_count": 229,
   "metadata": {},
   "outputs": [
    {
     "data": {
      "text/html": [
       "<div>\n",
       "<style scoped>\n",
       "    .dataframe tbody tr th:only-of-type {\n",
       "        vertical-align: middle;\n",
       "    }\n",
       "\n",
       "    .dataframe tbody tr th {\n",
       "        vertical-align: top;\n",
       "    }\n",
       "\n",
       "    .dataframe thead th {\n",
       "        text-align: right;\n",
       "    }\n",
       "</style>\n",
       "<table border=\"1\" class=\"dataframe\">\n",
       "  <thead>\n",
       "    <tr style=\"text-align: right;\">\n",
       "      <th></th>\n",
       "      <th>date</th>\n",
       "      <th>World</th>\n",
       "      <th>Afghanistan</th>\n",
       "      <th>Albania</th>\n",
       "      <th>Algeria</th>\n",
       "      <th>Andorra</th>\n",
       "      <th>Angola</th>\n",
       "      <th>Anguilla</th>\n",
       "      <th>Antigua and Barbuda</th>\n",
       "      <th>Argentina</th>\n",
       "      <th>...</th>\n",
       "      <th>Uzbekistan</th>\n",
       "      <th>Vanuatu</th>\n",
       "      <th>Vatican</th>\n",
       "      <th>Venezuela</th>\n",
       "      <th>Vietnam</th>\n",
       "      <th>Wallis and Futuna</th>\n",
       "      <th>Western Sahara</th>\n",
       "      <th>Yemen</th>\n",
       "      <th>Zambia</th>\n",
       "      <th>Zimbabwe</th>\n",
       "    </tr>\n",
       "  </thead>\n",
       "  <tbody>\n",
       "    <tr>\n",
       "      <th>0</th>\n",
       "      <td>2019-12-31</td>\n",
       "      <td>27</td>\n",
       "      <td>0.0</td>\n",
       "      <td>NaN</td>\n",
       "      <td>0.0</td>\n",
       "      <td>NaN</td>\n",
       "      <td>NaN</td>\n",
       "      <td>NaN</td>\n",
       "      <td>NaN</td>\n",
       "      <td>NaN</td>\n",
       "      <td>...</td>\n",
       "      <td>NaN</td>\n",
       "      <td>NaN</td>\n",
       "      <td>NaN</td>\n",
       "      <td>NaN</td>\n",
       "      <td>0.0</td>\n",
       "      <td>NaN</td>\n",
       "      <td>NaN</td>\n",
       "      <td>NaN</td>\n",
       "      <td>NaN</td>\n",
       "      <td>NaN</td>\n",
       "    </tr>\n",
       "    <tr>\n",
       "      <th>1</th>\n",
       "      <td>2020-01-01</td>\n",
       "      <td>0</td>\n",
       "      <td>0.0</td>\n",
       "      <td>NaN</td>\n",
       "      <td>0.0</td>\n",
       "      <td>NaN</td>\n",
       "      <td>NaN</td>\n",
       "      <td>NaN</td>\n",
       "      <td>NaN</td>\n",
       "      <td>NaN</td>\n",
       "      <td>...</td>\n",
       "      <td>NaN</td>\n",
       "      <td>NaN</td>\n",
       "      <td>NaN</td>\n",
       "      <td>NaN</td>\n",
       "      <td>0.0</td>\n",
       "      <td>NaN</td>\n",
       "      <td>NaN</td>\n",
       "      <td>NaN</td>\n",
       "      <td>NaN</td>\n",
       "      <td>NaN</td>\n",
       "    </tr>\n",
       "    <tr>\n",
       "      <th>2</th>\n",
       "      <td>2020-01-02</td>\n",
       "      <td>0</td>\n",
       "      <td>0.0</td>\n",
       "      <td>NaN</td>\n",
       "      <td>0.0</td>\n",
       "      <td>NaN</td>\n",
       "      <td>NaN</td>\n",
       "      <td>NaN</td>\n",
       "      <td>NaN</td>\n",
       "      <td>NaN</td>\n",
       "      <td>...</td>\n",
       "      <td>NaN</td>\n",
       "      <td>NaN</td>\n",
       "      <td>NaN</td>\n",
       "      <td>NaN</td>\n",
       "      <td>0.0</td>\n",
       "      <td>NaN</td>\n",
       "      <td>NaN</td>\n",
       "      <td>NaN</td>\n",
       "      <td>NaN</td>\n",
       "      <td>NaN</td>\n",
       "    </tr>\n",
       "    <tr>\n",
       "      <th>3</th>\n",
       "      <td>2020-01-03</td>\n",
       "      <td>17</td>\n",
       "      <td>0.0</td>\n",
       "      <td>NaN</td>\n",
       "      <td>0.0</td>\n",
       "      <td>NaN</td>\n",
       "      <td>NaN</td>\n",
       "      <td>NaN</td>\n",
       "      <td>NaN</td>\n",
       "      <td>NaN</td>\n",
       "      <td>...</td>\n",
       "      <td>NaN</td>\n",
       "      <td>NaN</td>\n",
       "      <td>NaN</td>\n",
       "      <td>NaN</td>\n",
       "      <td>0.0</td>\n",
       "      <td>NaN</td>\n",
       "      <td>NaN</td>\n",
       "      <td>NaN</td>\n",
       "      <td>NaN</td>\n",
       "      <td>NaN</td>\n",
       "    </tr>\n",
       "    <tr>\n",
       "      <th>4</th>\n",
       "      <td>2020-01-04</td>\n",
       "      <td>0</td>\n",
       "      <td>0.0</td>\n",
       "      <td>NaN</td>\n",
       "      <td>0.0</td>\n",
       "      <td>NaN</td>\n",
       "      <td>NaN</td>\n",
       "      <td>NaN</td>\n",
       "      <td>NaN</td>\n",
       "      <td>NaN</td>\n",
       "      <td>...</td>\n",
       "      <td>NaN</td>\n",
       "      <td>NaN</td>\n",
       "      <td>NaN</td>\n",
       "      <td>NaN</td>\n",
       "      <td>0.0</td>\n",
       "      <td>NaN</td>\n",
       "      <td>NaN</td>\n",
       "      <td>NaN</td>\n",
       "      <td>NaN</td>\n",
       "      <td>NaN</td>\n",
       "    </tr>\n",
       "    <tr>\n",
       "      <th>...</th>\n",
       "      <td>...</td>\n",
       "      <td>...</td>\n",
       "      <td>...</td>\n",
       "      <td>...</td>\n",
       "      <td>...</td>\n",
       "      <td>...</td>\n",
       "      <td>...</td>\n",
       "      <td>...</td>\n",
       "      <td>...</td>\n",
       "      <td>...</td>\n",
       "      <td>...</td>\n",
       "      <td>...</td>\n",
       "      <td>...</td>\n",
       "      <td>...</td>\n",
       "      <td>...</td>\n",
       "      <td>...</td>\n",
       "      <td>...</td>\n",
       "      <td>...</td>\n",
       "      <td>...</td>\n",
       "      <td>...</td>\n",
       "      <td>...</td>\n",
       "    </tr>\n",
       "    <tr>\n",
       "      <th>315</th>\n",
       "      <td>2020-11-10</td>\n",
       "      <td>554657</td>\n",
       "      <td>224.0</td>\n",
       "      <td>525.0</td>\n",
       "      <td>642.0</td>\n",
       "      <td>54.0</td>\n",
       "      <td>98.0</td>\n",
       "      <td>0.0</td>\n",
       "      <td>0.0</td>\n",
       "      <td>8317.0</td>\n",
       "      <td>...</td>\n",
       "      <td>239.0</td>\n",
       "      <td>NaN</td>\n",
       "      <td>0.0</td>\n",
       "      <td>0.0</td>\n",
       "      <td>3.0</td>\n",
       "      <td>0.0</td>\n",
       "      <td>0.0</td>\n",
       "      <td>0.0</td>\n",
       "      <td>17.0</td>\n",
       "      <td>30.0</td>\n",
       "    </tr>\n",
       "    <tr>\n",
       "      <th>316</th>\n",
       "      <td>2020-11-11</td>\n",
       "      <td>552067</td>\n",
       "      <td>0.0</td>\n",
       "      <td>563.0</td>\n",
       "      <td>753.0</td>\n",
       "      <td>40.0</td>\n",
       "      <td>247.0</td>\n",
       "      <td>0.0</td>\n",
       "      <td>0.0</td>\n",
       "      <td>11976.0</td>\n",
       "      <td>...</td>\n",
       "      <td>146.0</td>\n",
       "      <td>1.0</td>\n",
       "      <td>0.0</td>\n",
       "      <td>562.0</td>\n",
       "      <td>10.0</td>\n",
       "      <td>0.0</td>\n",
       "      <td>0.0</td>\n",
       "      <td>0.0</td>\n",
       "      <td>26.0</td>\n",
       "      <td>49.0</td>\n",
       "    </tr>\n",
       "    <tr>\n",
       "      <th>317</th>\n",
       "      <td>2020-11-12</td>\n",
       "      <td>585999</td>\n",
       "      <td>146.0</td>\n",
       "      <td>507.0</td>\n",
       "      <td>811.0</td>\n",
       "      <td>90.0</td>\n",
       "      <td>136.0</td>\n",
       "      <td>0.0</td>\n",
       "      <td>0.0</td>\n",
       "      <td>10880.0</td>\n",
       "      <td>...</td>\n",
       "      <td>224.0</td>\n",
       "      <td>0.0</td>\n",
       "      <td>0.0</td>\n",
       "      <td>0.0</td>\n",
       "      <td>26.0</td>\n",
       "      <td>0.0</td>\n",
       "      <td>0.0</td>\n",
       "      <td>0.0</td>\n",
       "      <td>39.0</td>\n",
       "      <td>57.0</td>\n",
       "    </tr>\n",
       "    <tr>\n",
       "      <th>318</th>\n",
       "      <td>2020-11-13</td>\n",
       "      <td>634117</td>\n",
       "      <td>360.0</td>\n",
       "      <td>410.0</td>\n",
       "      <td>851.0</td>\n",
       "      <td>49.0</td>\n",
       "      <td>137.0</td>\n",
       "      <td>0.0</td>\n",
       "      <td>0.0</td>\n",
       "      <td>11162.0</td>\n",
       "      <td>...</td>\n",
       "      <td>220.0</td>\n",
       "      <td>0.0</td>\n",
       "      <td>0.0</td>\n",
       "      <td>695.0</td>\n",
       "      <td>1.0</td>\n",
       "      <td>0.0</td>\n",
       "      <td>0.0</td>\n",
       "      <td>0.0</td>\n",
       "      <td>0.0</td>\n",
       "      <td>29.0</td>\n",
       "    </tr>\n",
       "    <tr>\n",
       "      <th>319</th>\n",
       "      <td>2020-11-14</td>\n",
       "      <td>704808</td>\n",
       "      <td>66.0</td>\n",
       "      <td>490.0</td>\n",
       "      <td>867.0</td>\n",
       "      <td>109.0</td>\n",
       "      <td>104.0</td>\n",
       "      <td>0.0</td>\n",
       "      <td>2.0</td>\n",
       "      <td>11859.0</td>\n",
       "      <td>...</td>\n",
       "      <td>63.0</td>\n",
       "      <td>0.0</td>\n",
       "      <td>0.0</td>\n",
       "      <td>0.0</td>\n",
       "      <td>3.0</td>\n",
       "      <td>0.0</td>\n",
       "      <td>0.0</td>\n",
       "      <td>2.0</td>\n",
       "      <td>57.0</td>\n",
       "      <td>69.0</td>\n",
       "    </tr>\n",
       "  </tbody>\n",
       "</table>\n",
       "<p>320 rows × 216 columns</p>\n",
       "</div>"
      ],
      "text/plain": [
       "           date   World  Afghanistan  Albania  Algeria  Andorra  Angola  \\\n",
       "0    2019-12-31      27          0.0      NaN      0.0      NaN     NaN   \n",
       "1    2020-01-01       0          0.0      NaN      0.0      NaN     NaN   \n",
       "2    2020-01-02       0          0.0      NaN      0.0      NaN     NaN   \n",
       "3    2020-01-03      17          0.0      NaN      0.0      NaN     NaN   \n",
       "4    2020-01-04       0          0.0      NaN      0.0      NaN     NaN   \n",
       "..          ...     ...          ...      ...      ...      ...     ...   \n",
       "315  2020-11-10  554657        224.0    525.0    642.0     54.0    98.0   \n",
       "316  2020-11-11  552067          0.0    563.0    753.0     40.0   247.0   \n",
       "317  2020-11-12  585999        146.0    507.0    811.0     90.0   136.0   \n",
       "318  2020-11-13  634117        360.0    410.0    851.0     49.0   137.0   \n",
       "319  2020-11-14  704808         66.0    490.0    867.0    109.0   104.0   \n",
       "\n",
       "     Anguilla  Antigua and Barbuda  Argentina  ...  Uzbekistan  Vanuatu  \\\n",
       "0         NaN                  NaN        NaN  ...         NaN      NaN   \n",
       "1         NaN                  NaN        NaN  ...         NaN      NaN   \n",
       "2         NaN                  NaN        NaN  ...         NaN      NaN   \n",
       "3         NaN                  NaN        NaN  ...         NaN      NaN   \n",
       "4         NaN                  NaN        NaN  ...         NaN      NaN   \n",
       "..        ...                  ...        ...  ...         ...      ...   \n",
       "315       0.0                  0.0     8317.0  ...       239.0      NaN   \n",
       "316       0.0                  0.0    11976.0  ...       146.0      1.0   \n",
       "317       0.0                  0.0    10880.0  ...       224.0      0.0   \n",
       "318       0.0                  0.0    11162.0  ...       220.0      0.0   \n",
       "319       0.0                  2.0    11859.0  ...        63.0      0.0   \n",
       "\n",
       "     Vatican  Venezuela  Vietnam  Wallis and Futuna  Western Sahara  Yemen  \\\n",
       "0        NaN        NaN      0.0                NaN             NaN    NaN   \n",
       "1        NaN        NaN      0.0                NaN             NaN    NaN   \n",
       "2        NaN        NaN      0.0                NaN             NaN    NaN   \n",
       "3        NaN        NaN      0.0                NaN             NaN    NaN   \n",
       "4        NaN        NaN      0.0                NaN             NaN    NaN   \n",
       "..       ...        ...      ...                ...             ...    ...   \n",
       "315      0.0        0.0      3.0                0.0             0.0    0.0   \n",
       "316      0.0      562.0     10.0                0.0             0.0    0.0   \n",
       "317      0.0        0.0     26.0                0.0             0.0    0.0   \n",
       "318      0.0      695.0      1.0                0.0             0.0    0.0   \n",
       "319      0.0        0.0      3.0                0.0             0.0    2.0   \n",
       "\n",
       "     Zambia  Zimbabwe  \n",
       "0       NaN       NaN  \n",
       "1       NaN       NaN  \n",
       "2       NaN       NaN  \n",
       "3       NaN       NaN  \n",
       "4       NaN       NaN  \n",
       "..      ...       ...  \n",
       "315    17.0      30.0  \n",
       "316    26.0      49.0  \n",
       "317    39.0      57.0  \n",
       "318     0.0      29.0  \n",
       "319    57.0      69.0  \n",
       "\n",
       "[320 rows x 216 columns]"
      ]
     },
     "execution_count": 229,
     "metadata": {},
     "output_type": "execute_result"
    }
   ],
   "source": [
    "plt.rcParams['figure.figsize'] = [10, 10]\n",
    "# Actualizar los datos (URL)\n",
    "url = 'https://covid.ourworldindata.org/data/ecdc/new_cases.csv'\n",
    "df = pd.read_csv(url)\n",
    "df"
   ]
  },
  {
   "cell_type": "markdown",
   "metadata": {},
   "source": [
    "Imprimos los resultados y agregamos el numero del dia\n"
   ]
  },
  {
   "cell_type": "code",
   "execution_count": 230,
   "metadata": {},
   "outputs": [
    {
     "data": {
      "text/html": [
       "<div>\n",
       "<style scoped>\n",
       "    .dataframe tbody tr th:only-of-type {\n",
       "        vertical-align: middle;\n",
       "    }\n",
       "\n",
       "    .dataframe tbody tr th {\n",
       "        vertical-align: top;\n",
       "    }\n",
       "\n",
       "    .dataframe thead th {\n",
       "        text-align: right;\n",
       "    }\n",
       "</style>\n",
       "<table border=\"1\" class=\"dataframe\">\n",
       "  <thead>\n",
       "    <tr style=\"text-align: right;\">\n",
       "      <th></th>\n",
       "      <th>date</th>\n",
       "      <th>Ecuador</th>\n",
       "    </tr>\n",
       "  </thead>\n",
       "  <tbody>\n",
       "    <tr>\n",
       "      <th>0</th>\n",
       "      <td>-1</td>\n",
       "      <td>0.0</td>\n",
       "    </tr>\n",
       "    <tr>\n",
       "      <th>1</th>\n",
       "      <td>0</td>\n",
       "      <td>0.0</td>\n",
       "    </tr>\n",
       "    <tr>\n",
       "      <th>2</th>\n",
       "      <td>1</td>\n",
       "      <td>0.0</td>\n",
       "    </tr>\n",
       "    <tr>\n",
       "      <th>3</th>\n",
       "      <td>2</td>\n",
       "      <td>0.0</td>\n",
       "    </tr>\n",
       "    <tr>\n",
       "      <th>4</th>\n",
       "      <td>3</td>\n",
       "      <td>0.0</td>\n",
       "    </tr>\n",
       "    <tr>\n",
       "      <th>...</th>\n",
       "      <td>...</td>\n",
       "      <td>...</td>\n",
       "    </tr>\n",
       "    <tr>\n",
       "      <th>315</th>\n",
       "      <td>314</td>\n",
       "      <td>362.0</td>\n",
       "    </tr>\n",
       "    <tr>\n",
       "      <th>316</th>\n",
       "      <td>315</td>\n",
       "      <td>442.0</td>\n",
       "    </tr>\n",
       "    <tr>\n",
       "      <th>317</th>\n",
       "      <td>316</td>\n",
       "      <td>919.0</td>\n",
       "    </tr>\n",
       "    <tr>\n",
       "      <th>318</th>\n",
       "      <td>317</td>\n",
       "      <td>883.0</td>\n",
       "    </tr>\n",
       "    <tr>\n",
       "      <th>319</th>\n",
       "      <td>318</td>\n",
       "      <td>1161.0</td>\n",
       "    </tr>\n",
       "  </tbody>\n",
       "</table>\n",
       "<p>320 rows × 2 columns</p>\n",
       "</div>"
      ],
      "text/plain": [
       "     date  Ecuador\n",
       "0      -1      0.0\n",
       "1       0      0.0\n",
       "2       1      0.0\n",
       "3       2      0.0\n",
       "4       3      0.0\n",
       "..    ...      ...\n",
       "315   314    362.0\n",
       "316   315    442.0\n",
       "317   316    919.0\n",
       "318   317    883.0\n",
       "319   318   1161.0\n",
       "\n",
       "[320 rows x 2 columns]"
      ]
     },
     "execution_count": 230,
     "metadata": {},
     "output_type": "execute_result"
    }
   ],
   "source": [
    "df = df.loc[:,['date','Ecuador']] #Selecciono las columnas de analasis\n",
    "# Expresar las fechas en numero de dias desde el 01 Enero\n",
    "FMT = '%Y-%m-%d'\n",
    "date = df['date']\n",
    "df['date'] = date.map(lambda x : (datetime.strptime(x, FMT) - datetime.strptime(\"2020-01-01\", FMT)).days)\n",
    "df"
   ]
  },
  {
   "cell_type": "code",
   "execution_count": 231,
   "metadata": {},
   "outputs": [
    {
     "data": {
      "text/plain": [
       "<matplotlib.axes._subplots.AxesSubplot at 0x287082686a0>"
      ]
     },
     "execution_count": 231,
     "metadata": {},
     "output_type": "execute_result"
    },
    {
     "data": {
      "image/png": "[encoded data removed]",
      "text/plain": [
       "<Figure size 720x720 with 1 Axes>"
      ]
     },
     "metadata": {
      "needs_background": "light"
     },
     "output_type": "display_data"
    }
   ],
   "source": [
    "df.plot(x ='date', y='Ecuador')"
   ]
  },
  {
   "cell_type": "markdown",
   "metadata": {},
   "source": [
    "Ahora podemos analizar un modelo probabilisto para el examen.\n",
    "\n",
    "## El modelo basado en probabilidad\n",
    "\n",
    "Para realizar un estimacion del factor de crecimiento de los casos de Covid 19 en Ecuador calculamos la mediana, con esto obtenemo el valor medio de crecimiento de un conjunto de datos, con esto podemos obtener un factor de crecimiento o taza de crecimiento de los nuevos casos.\n",
    "\n"
   ]
  },
  {
   "cell_type": "code",
   "execution_count": 232,
   "metadata": {},
   "outputs": [
    {
     "name": "stdout",
     "output_type": "stream",
     "text": [
      "663.0\n",
      "703.4409448818898\n"
     ]
    }
   ],
   "source": [
    "filtro = df[\"Ecuador\"][61:] # Filtro los datos que se empezo a tener casos\n",
    "#Obtenemos la mediana\n",
    "media = filtro.mean()\n",
    "mediana = filtro.median()\n",
    "print(mediana)\n",
    "print(media)\n"
   ]
  },
  {
   "cell_type": "markdown",
   "metadata": {},
   "source": [
    "De la ecuación de la recta y = mX + b nuestra pendiente «m» es el coeficiente y el término independiente «b»\n"
   ]
  },
  {
   "cell_type": "code",
   "execution_count": 235,
   "metadata": {},
   "outputs": [
    {
     "name": "stdout",
     "output_type": "stream",
     "text": [
      "179330\n"
     ]
    }
   ],
   "source": [
    "#Vamos a comprobar:\n",
    "# según la media y la mediana podemos obtener la taza de crecieminto y predicir su comportamiento.\n",
    "# Cargamos los datos de total de casos\n",
    "url = 'https://covid.ourworldindata.org/data/ecdc/total_cases.csv'\n",
    "df_t = pd.read_csv(url)\n",
    "FMT = '%Y-%m-%d'\n",
    "date = df_t['date']\n",
    "df_t['date'] = date.map(lambda x : (datetime.strptime(x, FMT) - datetime.strptime(\"2020-01-01\", FMT)).days)\n",
    "df_t = df_t.loc[:,['date','Ecuador']] #Selecciono las columnas de analasis\n",
    "y = list(df_t.iloc [:, 1]) # Total casos\n",
    "x = list(df_t.iloc [:, 0]) # Dias\n",
    "#Realizamos un ejemplo de prediccion\n",
    "prediccion_siguiente = int(y[-1] + mediana)\n",
    "print(prediccion_siguiente)"
   ]
  },
  {
   "cell_type": "code",
   "execution_count": 236,
   "metadata": {},
   "outputs": [
    {
     "data": {
      "image/png": "[encoded data removed]",
      "text/plain": [
       "<Figure size 720x720 with 1 Axes>"
      ]
     },
     "metadata": {
      "needs_background": "light"
     },
     "output_type": "display_data"
    }
   ],
   "source": [
    "# Quiero predecir cuántos \"Casos\" voy a obtener de aqui a menos 7 dias.\n",
    "for i in range(x[-1], x[-1]-7):\n",
    "    x.append(i)\n",
    "    y.append(int(y[-1] + mediana))\n",
    "valorProbabilistico=y[319]\n",
    "plt.plot(x[61:], y[61:])\n",
    "plt.show()"
   ]
  },
  {
   "cell_type": "markdown",
   "metadata": {},
   "source": [
    "# Practica\n",
    "\n",
    "1. Comparar el modelo de predicion matematico vs probabilidad.\n",
    "2. Retroceder un semana y comparar el modelo matematico vs probabilidad vs reales. Solo cargan los datos para generar los modelos menos 7 dias.\n",
    "Puntos extras: Investigas sobre la correlacion de variables y aplicar el calculo en base a los datos del Ecuador."
   ]
  },
  {
   "cell_type": "markdown",
   "metadata": {},
   "source": [
    "# 1) Comparar el modelo de predicción matemático vs probabilidad."
   ]
  },
  {
   "cell_type": "markdown",
   "metadata": {},
   "source": [
    "# REGRESION POLINOMIAL"
   ]
  },
  {
   "cell_type": "code",
   "execution_count": 271,
   "metadata": {},
   "outputs": [
    {
     "data": {
      "image/png": "[encoded data removed]",
      "text/plain": [
       "<Figure size 720x720 with 1 Axes>"
      ]
     },
     "metadata": {
      "needs_background": "light"
     },
     "output_type": "display_data"
    }
   ],
   "source": [
    "from sklearn.preprocessing import PolynomialFeatures\n",
    "\n",
    "x = list(df_t.iloc[:, 0]) # Dias\n",
    "y = list(df_t.iloc [:, 1]) # Total caso\n",
    "\n",
    "y= np.nan_to_num(y)#Eliminar los valores NAN, remplazando con ceros.\n",
    "x=np.array(x).reshape(-1,1)\n",
    "y=np.array(y).reshape(-1,1)\n",
    "\n",
    "#Como se veia en el caso de la regresion lineal , para obtener mejores resultados lo ideal sería una curva\n",
    "\n",
    "#Esta transformación la podemos realizar fácilmente son SkLearn gracias PolynomialFeatures(). A la que le indicamos el grado de la función que queremos obtener. Haciendo uso del método fit_transform() obtendremos el término cuadrático que andamos buscando para nuestro modelo.\n",
    "poly = PolynomialFeatures(degree=5, include_bias=False)\n",
    "x_poly = poly.fit_transform(x)\n",
    "#print(x)\n",
    "#print(x_poly)\n",
    "\n",
    "#Defino el algoritmo a utilizar\n",
    "model = linear_model.LinearRegression()\n",
    "\n",
    "#Entrenamos\n",
    "model.fit(x_poly, y)\n",
    "y_pred = model.predict(x_poly)\n",
    "y_pred = y_pred-7#RETROCEDEMOS 7 DÍAS\n",
    "plt.title('Casos de infectados de COVID-19 Ecuador')\n",
    "plt.scatter(x, y)\n",
    "plt.plot(x, y_pred, color='gold',lw=4)\n",
    "plt.grid(True)\n",
    "plt.xlabel('DIAS')\n",
    "plt.ylabel('NÚMERO DE CASOS')\n",
    "plt.show()"
   ]
  },
  {
   "cell_type": "markdown",
   "metadata": {},
   "source": [
    "Desde mi perpectiva el mejor modelo que se ajusta es el **MODELO POLINOMIAL** ya que este ajusta de mejor manera los datos, pero esto se logra gracias a un ecuacion de Quinto Grado."
   ]
  },
  {
   "cell_type": "markdown",
   "metadata": {},
   "source": [
    "# 2. Retroceder un semana y comparar el modelo matematico vs probabilidad vs reales. Solo cargan los datos para generar los modelos menos 7 dias."
   ]
  },
  {
   "cell_type": "markdown",
   "metadata": {},
   "source": [
    "FECHA:14/11/2020"
   ]
  },
  {
   "cell_type": "markdown",
   "metadata": {},
   "source": [
    "# MODELO BASADO EN PROBABILIDAD"
   ]
  },
  {
   "cell_type": "code",
   "execution_count": 274,
   "metadata": {},
   "outputs": [
    {
     "name": "stdout",
     "output_type": "stream",
     "text": [
      "Número de casos hace 7 días 178583.0\n"
     ]
    }
   ],
   "source": [
    "valorProbabilistico=valorProbabilistico-7\n",
    "print('Número de casos hace 7 días',np.round(valorProbabilistico,1))"
   ]
  },
  {
   "cell_type": "markdown",
   "metadata": {},
   "source": [
    "# MODELO LOGISTICO"
   ]
  },
  {
   "cell_type": "code",
   "execution_count": 275,
   "metadata": {},
   "outputs": [
    {
     "name": "stdout",
     "output_type": "stream",
     "text": [
      "Número de casos hace 7 días [172898.]\n"
     ]
    }
   ],
   "source": [
    "valorLogistico=y_pred[319-7]\n",
    "print('Número de casos hace 7 días',np.round(valorLogistico,0))"
   ]
  },
  {
   "cell_type": "markdown",
   "metadata": {},
   "source": [
    "# DATOS REALES"
   ]
  },
  {
   "cell_type": "markdown",
   "metadata": {},
   "source": [
    "FUENTE:\n",
    "https://www.eluniverso.com/noticias/2020/11/07/nota/8040589/coronavirus-7-noviembre-ecuador-ministerio-casos-covid\n",
    "\n",
    "# TOTAL DE CASO\n",
    "\n",
    "173.486"
   ]
  },
  {
   "cell_type": "markdown",
   "metadata": {},
   "source": [
    "## Analisis\n",
    "Se puede evidenciar que el modelo que más se asemeja es el **MODELO POLINOMIAL** ya que el modelo ya que tiene una menor diferencia con referencia a los datos verdaderos.Tiene una diferencia de -588.\n",
    "\n",
    "El **MODELO BASADO EN PROBABILIDAD** tiene un diferencia de +5104 por ende es un error mayor.\n",
    "\n"
   ]
  },
  {
   "cell_type": "markdown",
   "metadata": {},
   "source": [
    "# Puntos extras: Investigas sobre la correlacion de variables y aplicar el calculo en base a los datos del Ecuador."
   ]
  },
  {
   "cell_type": "markdown",
   "metadata": {},
   "source": [
    "**¿Qué es el coeficiente de correlación?**"
   ]
  },
  {
   "cell_type": "markdown",
   "metadata": {},
   "source": [
    "El mas famosos es el coeficiente de correlación o correlación de Pearson.\n",
    "\n",
    "Este coeficiente sólo debe utilizarse para comparar variables cuantitativas y continuas.\n",
    "\n",
    "Un coeficiente de correlación es un número que denota la fuerza de la relación entre dos variables.\n",
    "\n",
    "La correlación es cuado una variable independiente (X), varia o cambia largo del tiempo de igual manera la variable indepediente(y) también cambia.\n",
    "\n",
    "Me permite determinar si existe alguna relacion entre dos o más variables.\n",
    "\n",
    "**RANGOS**\n",
    "\n",
    "- **0** ->NO EXISTE RELACION LINEAL.\n",
    "\n",
    "**CORRELACION POSITIVA**\n",
    "\n",
    "- **1**->EN LA QUE INCREMENTA UNA Y LA OTRA TAMBIEN INCREMENTA\n",
    "\n",
    "**CORRELACION NEGATIVA**\n",
    "\n",
    "- **-1**-> CRECE UNA VARIABLE Y LA OTRA DECRECE.\n",
    "\n"
   ]
  },
  {
   "cell_type": "code",
   "execution_count": 31,
   "metadata": {},
   "outputs": [
    {
     "data": {
      "text/html": [
       "<div>\n",
       "<style scoped>\n",
       "    .dataframe tbody tr th:only-of-type {\n",
       "        vertical-align: middle;\n",
       "    }\n",
       "\n",
       "    .dataframe tbody tr th {\n",
       "        vertical-align: top;\n",
       "    }\n",
       "\n",
       "    .dataframe thead th {\n",
       "        text-align: right;\n",
       "    }\n",
       "</style>\n",
       "<table border=\"1\" class=\"dataframe\">\n",
       "  <thead>\n",
       "    <tr style=\"text-align: right;\">\n",
       "      <th></th>\n",
       "      <th>date</th>\n",
       "      <th>Ecuador</th>\n",
       "    </tr>\n",
       "  </thead>\n",
       "  <tbody>\n",
       "    <tr>\n",
       "      <th>date</th>\n",
       "      <td>1.000000</td>\n",
       "      <td>0.991979</td>\n",
       "    </tr>\n",
       "    <tr>\n",
       "      <th>Ecuador</th>\n",
       "      <td>0.991979</td>\n",
       "      <td>1.000000</td>\n",
       "    </tr>\n",
       "  </tbody>\n",
       "</table>\n",
       "</div>"
      ],
      "text/plain": [
       "             date   Ecuador\n",
       "date     1.000000  0.991979\n",
       "Ecuador  0.991979  1.000000"
      ]
     },
     "execution_count": 31,
     "metadata": {},
     "output_type": "execute_result"
    }
   ],
   "source": [
    "#Calculamos el Coeficiente de Correlación de Pearson, y mostramos los resultados en una matriz:\n",
    "df_t.corr(method='pearson')\n",
    "df_t.corr()"
   ]
  },
  {
   "cell_type": "code",
   "execution_count": 32,
   "metadata": {},
   "outputs": [
    {
     "data": {
      "text/plain": [
       "<matplotlib.image.AxesImage at 0x240d1e65e20>"
      ]
     },
     "execution_count": 32,
     "metadata": {},
     "output_type": "execute_result"
    },
    {
     "data": {
      "image/png": "[encoded data removed]",
      "text/plain": [
       "<Figure size 720x720 with 1 Axes>"
      ]
     },
     "metadata": {
      "needs_background": "light"
     },
     "output_type": "display_data"
    }
   ],
   "source": [
    "# Crearemos un gráfico con la matriz de correlación:\n",
    "plt.matshow(df_t.corr())"
   ]
  },
  {
   "cell_type": "code",
   "execution_count": 33,
   "metadata": {},
   "outputs": [
    {
     "data": {
      "text/plain": [
       "<matplotlib.axes._subplots.AxesSubplot at 0x240d1e83a30>"
      ]
     },
     "execution_count": 33,
     "metadata": {},
     "output_type": "execute_result"
    },
    {
     "data": {
      "image/png": "[encoded data removed]",
      "text/plain": [
       "<Figure size 720x720 with 2 Axes>"
      ]
     },
     "metadata": {
      "needs_background": "light"
     },
     "output_type": "display_data"
    }
   ],
   "source": [
    "#UTILIZANDO LA BIBLIOTECA SEABORN\n",
    "#Para graficar la matriz, usaremos una biblioteca de visualización popular llamada seaborn, que está incorporada en matplotlib.\n",
    "import seaborn as sns #Importamos \n",
    "correlacion = df_t.corr()\n",
    "sns.heatmap(correlacion, xticklabels = correlacion.columns.values, yticklabels = correlacion.columns.values)"
   ]
  },
  {
   "cell_type": "markdown",
   "metadata": {},
   "source": [
    "La columna diagonal siemre va tener un valor de uno, ya que se esta comparado la variable consigo mismo."
   ]
  },
  {
   "cell_type": "markdown",
   "metadata": {},
   "source": [
    "# INTERPRETACION\n",
    "Lo que más nos importa es la relación entre los días(date) y los número de casos (Ecuador) para poder tomar decisiones.\n",
    "\n",
    "El coeficiente de correlación de Pearson, para días y número de casos es de 0.99, podemos considerar una relación directa entre ambas variables. Hagamos un gráfico para observar mejor esto:"
   ]
  },
  {
   "cell_type": "code",
   "execution_count": 34,
   "metadata": {},
   "outputs": [
    {
     "data": {
      "text/plain": [
       "Text(0, 0.5, 'Número de Casos')"
      ]
     },
     "execution_count": 34,
     "metadata": {},
     "output_type": "execute_result"
    },
    {
     "data": {
      "image/png": "[encoded data removed]",
      "text/plain": [
       "<Figure size 720x720 with 1 Axes>"
      ]
     },
     "metadata": {
      "needs_background": "light"
     },
     "output_type": "display_data"
    }
   ],
   "source": [
    "x = list(df_t.iloc[:, 0]) # Dias\n",
    "y = list(df_t.iloc [:, 1]) # Total caso\n",
    "plt.plot(x,y,'ro')\n",
    "plt.xlabel('Dias')\n",
    "plt.ylabel('Número de Casos')"
   ]
  },
  {
   "cell_type": "markdown",
   "metadata": {},
   "source": [
    "Existe cierta tendencia lineal entre estas variables, de manera que a mayor número de días, se traducirá en más casos de COVID-19."
   ]
  },
  {
   "cell_type": "markdown",
   "metadata": {},
   "source": [
    "\n",
    "## Conclusiones\n",
    "\n",
    "\n",
    "- Desde mi punto de vista un regresion Polinomial al ser un caso especial puede ayudar a predecir datos a futuro de una mejor manera, ojo pero siempre tendiendo en cuenta que este enfoque proporciona una forma sencilla de proporcionar un ajuste no lineal a los datos. \n",
    "\n",
    "- Si no hago correlación no puedo saber si un conjuto de datos es o no independiente de las muestras anteriores, cuando se toma un valor aleatorio.\n"
   ]
  },
  {
   "cell_type": "markdown",
   "metadata": {},
   "source": [
    "\n",
    "## Criterio personal (politico, economico y  social de la situacion)"
   ]
  },
  {
   "cell_type": "markdown",
   "metadata": {},
   "source": [
    "- La regresión es importante ya  que me ayuda a poder visualizar de mejor manera como influye la variable independiente sobre la depediente a nivel politico, economico y social para de esta manera poder tomar mejores decisiones , además de obtener información empresarial valiosa.\n",
    "\n",
    "- La correlación es una herramienta estadística muy valiosa para poder hacer la comparación entre variables numéricas de manera sencilla. \n"
   ]
  },
  {
   "cell_type": "markdown",
   "metadata": {},
   "source": [
    "# Referencias\n",
    "\n",
    "- https://www.researchgate.net/publication/340092755_Infeccion_del_Covid-19_en_Colombia_Una_comparacion_de_modelos_logisticos_y_exponenciales_aplicados_a_la_infeccion_por_el_virus_en_Colombia\n",
    "\n",
    "- https://www.aprendemachinelearning.com/regresion-lineal-en-espanol-con-python/\n",
    "\n",
    "- https://likegeeks.com/es/matrix-correlacion-python/\n",
    "- https://medium.com/@hdezfloresmiguelangel/el-coeficiente-de-correlaci%C3%B3n-de-pearson-con-ejemplo-en-python-6e8588f67e35\n"
   ]
  }
 ],
 "metadata": {
  "kernelspec": {
   "display_name": "Python 3",
   "language": "python",
   "name": "python3"
  },
  "language_info": {
   "codemirror_mode": {
    "name": "ipython",
    "version": 3
   },
   "file_extension": ".py",
   "mimetype": "text/x-python",
   "name": "python",
   "nbconvert_exporter": "python",
   "pygments_lexer": "ipython3",
   "version": "3.8.3"
  }
 },
 "nbformat": 4,
 "nbformat_minor": 2
}
