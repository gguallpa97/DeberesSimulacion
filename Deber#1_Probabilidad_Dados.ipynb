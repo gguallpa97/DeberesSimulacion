{
 "cells": [
  {
   "cell_type": "markdown",
   "metadata": {},
   "source": [
    "# UNIVERSIDAD POLITÉCNICA SALESIANA \n",
    "# El VECINO - CUENCA\n",
    "\n",
    "**Estudiante:**Gustavo Guallpa\n",
    "\n",
    "**Profesor:** Ing. Diego Quisi\n",
    "\n",
    "**Asignatura:** Simulación\n",
    " \n",
    "**Tema:** Introducción a Simulación:Probabilidad Dados."
   ]
  },
  {
   "cell_type": "markdown",
   "metadata": {},
   "source": [
    "#Al igual que en nuestro excel vamos primero a calcular la frecuencia con la que se repiten los valores."
   ]
  },
  {
   "cell_type": "code",
   "execution_count": 1,
   "metadata": {},
   "outputs": [
    {
     "name": "stdout",
     "output_type": "stream",
     "text": [
      "El número: 2 tiene una frecuencia de: 1\n",
      "El número: 3 tiene una frecuencia de: 2\n",
      "El número: 4 tiene una frecuencia de: 3\n",
      "El número: 5 tiene una frecuencia de: 4\n",
      "El número: 6 tiene una frecuencia de: 5\n",
      "El número: 7 tiene una frecuencia de: 6\n",
      "El número: 8 tiene una frecuencia de: 5\n",
      "El número: 9 tiene una frecuencia de: 4\n",
      "El número: 10 tiene una frecuencia de: 3\n",
      "El número: 11 tiene una frecuencia de: 2\n",
      "El número: 12 tiene una frecuencia de: 1\n"
     ]
    }
   ],
   "source": [
    "#Importamos las librerias necearias.\n",
    "from collections import Counter\n",
    "import random as rd\n",
    "import matplotlib.pyplot as plt\n",
    "#Variables de almacenamiento de valores.\n",
    "resultado=[]\n",
    "num=0\n",
    "#Empleamos la funcion range para crear una secuencia ordenada de enteros.\n",
    "for i in range(6):\n",
    "    for j in range(6):\n",
    "        num=(i+1)+(j+1)\n",
    "        resultado.append(num)\n",
    "#Utilizamos la funcion counter para ver cuantas veces se repite un número.\n",
    "counts=Counter(resultado)\n",
    "#Empleamos un for para ver cuantas veces se repite un número.\n",
    "for k in counts:\n",
    "    val=counts[k]\n",
    "    print(\"El número:\",k ,\"tiene una frecuencia de:\" ,val)"
   ]
  },
  {
   "cell_type": "code",
   "execution_count": 2,
   "metadata": {},
   "outputs": [],
   "source": [
    "#Importamos las librerias necearias.\n",
    "from collections import Counter\n",
    "import random as rd\n",
    "import matplotlib.pyplot as plt\n",
    "#Variables de almacenamiento de valores.\n",
    "resultado=[]\n",
    "resultadoFinal={}\n",
    "#Creamos un funcion para hacer con los diferente valore de 100, 1.0000 , 10.000\n",
    "def lanzarDados(repeticiones):\n",
    "    #Empleamos un bucle para recorrer la veces  que se va a repetir el lanzamiento de los dados.\n",
    "    for i in range(repeticiones):\n",
    "        #Para genera los valores aleatorios utilizamos el objeto random, utilixando la libreria randint()\n",
    "        dado1= rd.randint(1, 6)\n",
    "        dado2= rd.randint(1, 6)\n",
    "        #Guadamos los valores que se generan\n",
    "        resultado.append(dado1+dado2)\n",
    "    counts=Counter(resultado)\n",
    "    #Vemos el numero de veces que se repite\n",
    "    for k in sorted(counts.items()):\n",
    "        #val=counts[k]\n",
    "        print(\"El número:\",k[0] ,\"tiene una frecuencia de:\" ,k[1])\n",
    "    \n",
    "    #Aqui procedemos a crear la grafica.\n",
    "    plt.title('Histograma de '+ str(repeticiones) +' valores')\n",
    "    plt.hist(resultado,width=0.5)\n",
    "    #Añadimos etiquetas para el eje x y y\n",
    "    plt.xlabel('Números',fontsize=15)\n",
    "    plt.ylabel('Frequencia',fontsize=15)\n",
    "    #Para que me muestre los valores del eje x con un salto de 1 em 1.\n",
    "    plt.xticks(range(0, max(counts.keys())+1))\n",
    "    #Para mostrar la grafica\n",
    "    plt.show()\n",
    "    \n",
    "    #Mostramos la probailida de cada uno de ellos.\n",
    "    #total=0\n",
    "    #for i in sorted(counts.items()):\n",
    "        #total = total + i[1]\n",
    "    \n",
    "    #CALCULAR LA PROBABILIDA DE CADA UNO DE LOS NUMEROS.\n",
    "    print(\"EL TOTAL DE SUMAR LAS FRECUENCIAS ES:\", repeticiones)\n",
    "    for i in sorted(counts.items()):\n",
    "        probabilidad=i[1]/repeticiones\n",
    "        print(\"Valor: \", i[0] , \" Probabilidad: \",probabilidad)\n",
    "        resultadoFinal[i[0]]=probabilidad\n",
    "    \n",
    "    #SABER EL NUMERO QUE TIENE MAYOR PROBABILIDAD.\n",
    "    valor_mayor = max(resultadoFinal.values())\n",
    "    clave_mayor= list(resultadoFinal.keys())[list(resultadoFinal.values()).index(valor_mayor)]\n",
    "    print(\"EL NÚMERO QUE TIENE MAYOR PROBABILIDAD ES:\" , clave_mayor)\n",
    "    \n",
    "        "
   ]
  },
  {
   "cell_type": "code",
   "execution_count": 3,
   "metadata": {},
   "outputs": [
    {
     "name": "stdout",
     "output_type": "stream",
     "text": [
      "El número: 2 tiene una frecuencia de: 3\n",
      "El número: 3 tiene una frecuencia de: 5\n",
      "El número: 4 tiene una frecuencia de: 9\n",
      "El número: 5 tiene una frecuencia de: 9\n",
      "El número: 6 tiene una frecuencia de: 8\n",
      "El número: 7 tiene una frecuencia de: 19\n",
      "El número: 8 tiene una frecuencia de: 20\n",
      "El número: 9 tiene una frecuencia de: 14\n",
      "El número: 10 tiene una frecuencia de: 6\n",
      "El número: 11 tiene una frecuencia de: 7\n"
     ]
    },
    {
     "data": {
      "image/png": "[encoded data removed]",
      "text/plain": [
       "<Figure size 432x288 with 1 Axes>"
      ]
     },
     "metadata": {
      "needs_background": "light"
     },
     "output_type": "display_data"
    },
    {
     "name": "stdout",
     "output_type": "stream",
     "text": [
      "EL TOTAL DE SUMAR LAS FRECUENCIAS ES: 100\n",
      "Valor:  2  Probabilidad:  0.03\n",
      "Valor:  3  Probabilidad:  0.05\n",
      "Valor:  4  Probabilidad:  0.09\n",
      "Valor:  5  Probabilidad:  0.09\n",
      "Valor:  6  Probabilidad:  0.08\n",
      "Valor:  7  Probabilidad:  0.19\n",
      "Valor:  8  Probabilidad:  0.2\n",
      "Valor:  9  Probabilidad:  0.14\n",
      "Valor:  10  Probabilidad:  0.06\n",
      "Valor:  11  Probabilidad:  0.07\n",
      "EL NÚMERO QUE TIENE MAYOR PROBABILIDAD ES: 8\n"
     ]
    }
   ],
   "source": [
    "lanzarDados(100)"
   ]
  },
  {
   "cell_type": "code",
   "execution_count": 4,
   "metadata": {},
   "outputs": [
    {
     "name": "stdout",
     "output_type": "stream",
     "text": [
      "El número: 2 tiene una frecuencia de: 35\n",
      "El número: 3 tiene una frecuencia de: 57\n",
      "El número: 4 tiene una frecuencia de: 82\n",
      "El número: 5 tiene una frecuencia de: 136\n",
      "El número: 6 tiene una frecuencia de: 151\n",
      "El número: 7 tiene una frecuencia de: 173\n",
      "El número: 8 tiene una frecuencia de: 155\n",
      "El número: 9 tiene una frecuencia de: 123\n",
      "El número: 10 tiene una frecuencia de: 98\n",
      "El número: 11 tiene una frecuencia de: 59\n",
      "El número: 12 tiene una frecuencia de: 31\n"
     ]
    },
    {
     "data": {
      "image/png": "[encoded data removed]",
      "text/plain": [
       "<Figure size 432x288 with 1 Axes>"
      ]
     },
     "metadata": {
      "needs_background": "light"
     },
     "output_type": "display_data"
    },
    {
     "name": "stdout",
     "output_type": "stream",
     "text": [
      "EL TOTAL DE SUMAR LAS FRECUENCIAS ES: 1000\n",
      "Valor:  2  Probabilidad:  0.035\n",
      "Valor:  3  Probabilidad:  0.057\n",
      "Valor:  4  Probabilidad:  0.082\n",
      "Valor:  5  Probabilidad:  0.136\n",
      "Valor:  6  Probabilidad:  0.151\n",
      "Valor:  7  Probabilidad:  0.173\n",
      "Valor:  8  Probabilidad:  0.155\n",
      "Valor:  9  Probabilidad:  0.123\n",
      "Valor:  10  Probabilidad:  0.098\n",
      "Valor:  11  Probabilidad:  0.059\n",
      "Valor:  12  Probabilidad:  0.031\n",
      "EL NÚMERO QUE TIENE MAYOR PROBABILIDAD ES: 7\n"
     ]
    }
   ],
   "source": [
    "lanzarDados(1000)"
   ]
  },
  {
   "cell_type": "code",
   "execution_count": 5,
   "metadata": {},
   "outputs": [
    {
     "name": "stdout",
     "output_type": "stream",
     "text": [
      "El número: 2 tiene una frecuencia de: 320\n",
      "El número: 3 tiene una frecuencia de: 603\n",
      "El número: 4 tiene una frecuencia de: 942\n",
      "El número: 5 tiene una frecuencia de: 1219\n",
      "El número: 6 tiene una frecuencia de: 1564\n",
      "El número: 7 tiene una frecuencia de: 1887\n",
      "El número: 8 tiene una frecuencia de: 1480\n",
      "El número: 9 tiene una frecuencia de: 1233\n",
      "El número: 10 tiene una frecuencia de: 952\n",
      "El número: 11 tiene una frecuencia de: 591\n",
      "El número: 12 tiene una frecuencia de: 309\n"
     ]
    },
    {
     "data": {
      "image/png": "[encoded data removed]",
      "text/plain": [
       "<Figure size 432x288 with 1 Axes>"
      ]
     },
     "metadata": {
      "needs_background": "light"
     },
     "output_type": "display_data"
    },
    {
     "name": "stdout",
     "output_type": "stream",
     "text": [
      "EL TOTAL DE SUMAR LAS FRECUENCIAS ES: 10000\n",
      "Valor:  2  Probabilidad:  0.032\n",
      "Valor:  3  Probabilidad:  0.0603\n",
      "Valor:  4  Probabilidad:  0.0942\n",
      "Valor:  5  Probabilidad:  0.1219\n",
      "Valor:  6  Probabilidad:  0.1564\n",
      "Valor:  7  Probabilidad:  0.1887\n",
      "Valor:  8  Probabilidad:  0.148\n",
      "Valor:  9  Probabilidad:  0.1233\n",
      "Valor:  10  Probabilidad:  0.0952\n",
      "Valor:  11  Probabilidad:  0.0591\n",
      "Valor:  12  Probabilidad:  0.0309\n",
      "EL NÚMERO QUE TIENE MAYOR PROBABILIDAD ES: 7\n"
     ]
    }
   ],
   "source": [
    "lanzarDados(10000)"
   ]
  },
  {
   "cell_type": "code",
   "execution_count": null,
   "metadata": {},
   "outputs": [],
   "source": []
  },
  {
   "cell_type": "code",
   "execution_count": null,
   "metadata": {},
   "outputs": [],
   "source": []
  }
 ],
 "metadata": {
  "kernelspec": {
   "display_name": "Python 3",
   "language": "python",
   "name": "python3"
  },
  "language_info": {
   "codemirror_mode": {
    "name": "ipython",
    "version": 3
   },
   "file_extension": ".py",
   "mimetype": "text/x-python",
   "name": "python",
   "nbconvert_exporter": "python",
   "pygments_lexer": "ipython3",
   "version": "3.7.6"
  }
 },
 "nbformat": 4,
 "nbformat_minor": 4
}
